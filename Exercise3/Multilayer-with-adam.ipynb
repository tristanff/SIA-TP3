{
 "cells": [
  {
   "cell_type": "code",
   "execution_count": null,
   "id": "9a96ed9a-3772-4920-bae0-431d1815a803",
   "metadata": {
    "ExecuteTime": {
     "end_time": "2024-05-06T21:14:54.864127Z",
     "start_time": "2024-05-06T21:14:54.860575Z"
    }
   },
   "outputs": [],
   "source": [
    "#import cv2\n",
    "import numpy as np\n",
    "import matplotlib.pyplot as plt\n",
    "import pandas as pd\n",
    "from datetime import datetime\n",
    "from neural_network import NeuralNetwork\n",
    "from test_utils import generate_test_dataset, train_test, accuracy"
   ]
  },
  {
   "cell_type": "markdown",
   "id": "6c4257f7-a776-4d24-9c1e-9a3bf8f2b334",
   "metadata": {},
   "source": [
    "# Exercise 3"
   ]
  },
  {
   "cell_type": "markdown",
   "id": "29ea0883-201e-4a77-8b8b-5945e2c54603",
   "metadata": {},
   "source": [
    "### Question A"
   ]
  },
  {
   "cell_type": "code",
   "execution_count": null,
   "id": "0bcb7d5a-478c-41be-a31f-87cd6f017bcb",
   "metadata": {
    "ExecuteTime": {
     "end_time": "2024-05-06T21:14:55.054679Z",
     "start_time": "2024-05-06T21:14:55.046499Z"
    }
   },
   "outputs": [],
   "source": [
    "x = np.array([[0, 0],\n",
    "              [0, 1],\n",
    "              [1, 0],\n",
    "              [1, 1]])\n",
    "\n",
    "y = np.array([[0],\n",
    "              [1],\n",
    "              [1],\n",
    "              [0]])"
   ]
  },
  {
   "cell_type": "code",
   "execution_count": null,
   "id": "cb4bc2b1-bd14-46b3-9eca-7da83fbd264d",
   "metadata": {
    "ExecuteTime": {
     "end_time": "2024-05-06T21:14:55.102189Z",
     "start_time": "2024-05-06T21:14:55.089952Z"
    }
   },
   "outputs": [],
   "source": [
    "df = pd.DataFrame(np.concatenate((x, y), axis=1), columns=('x1', 'x2', 'y'))\n",
    "df.style.hide()"
   ]
  },
  {
   "cell_type": "code",
   "execution_count": null,
   "id": "8319012a-9df9-46b8-aa65-72fbeb3be14a",
   "metadata": {
    "ExecuteTime": {
     "end_time": "2024-05-06T21:14:55.400104Z",
     "start_time": "2024-05-06T21:14:55.183154Z"
    }
   },
   "outputs": [],
   "source": [
    "plt.figure(figsize=(2,2))\n",
    "\n",
    "plt.plot(*x[0], 'o', color='blue')\n",
    "plt.plot(*x[1], 'o', color='red')\n",
    "plt.plot(*x[2], 'o', color='red')\n",
    "plt.plot(*x[3], 'o', color='blue')\n",
    "plt.grid()\n",
    "\n",
    "plt.show()"
   ]
  },
  {
   "cell_type": "code",
   "execution_count": null,
   "id": "762a2d09-40c3-4b2f-9e30-fa817daf29ff",
   "metadata": {
    "ExecuteTime": {
     "end_time": "2024-05-06T21:14:55.462219Z",
     "start_time": "2024-05-06T21:14:55.408859Z"
    },
    "editable": true,
    "slideshow": {
     "slide_type": ""
    },
    "tags": []
   },
   "outputs": [],
   "source": [
    "class NeuralNetwork:\n",
    "    def __init__(self, input_size, hidden_size, output_size, one_hot=False, activation_function='reLU'):\n",
    "        # Initialize number of nodes of input, hidden, and output layer\n",
    "        self.input_size = input_size\n",
    "        self.hidden_size = hidden_size\n",
    "        self.output_size = output_size\n",
    "        self.accuracies = [] # Initialize accuracies\n",
    "\n",
    "\n",
    "        # Initialize weights (w) and biases (b)\n",
    "        # input -> hidden\n",
    "        self.w1 = np.random.rand(self.input_size, self.hidden_size) # 35*10\n",
    "        self.b1 = np.zeros((1, self.hidden_size)) # 1*10\n",
    "\n",
    "        # hidden -> output\n",
    "        self.w2 = np.random.rand(self.hidden_size, self.output_size) # 10*1\n",
    "        self.b2 = np.zeros((1, self.output_size)) # 1*1\n",
    "\n",
    "        #adam parameters\n",
    "        self.beta1 = 0.9\n",
    "        self.beta2 = 0.999\n",
    "        self.epsilon = 1e-8\n",
    "\n",
    "        # Increment the time step\n",
    "        self.t =1\n",
    "        \n",
    "        # Activation function\n",
    "        self.activation_function = activation_function\n",
    "        \n",
    "        # Use of one_hot encoding\n",
    "        self.one_hot = one_hot\n",
    "        \n",
    "       # Initialize moving average variables for weights\n",
    "        self.m_w1 = np.zeros_like(self.w1)\n",
    "        self.v_w1 = np.zeros_like(self.w1)\n",
    "        self.m_w2 = np.zeros_like(self.w2)\n",
    "        self.v_w2 = np.zeros_like(self.w2)\n",
    "\n",
    "        # Initialize moving average variables for biases\n",
    "        self.m_b1 = np.zeros_like(self.b1)\n",
    "        self.v_b1 = np.zeros_like(self.b1)\n",
    "        self.m_b2 = np.zeros_like(self.b2)\n",
    "        self.v_b2 = np.zeros_like(self.b2)\n",
    "\n",
    "        # Record data\n",
    "        self.losses = []\n",
    "    \n",
    "   \n",
    "    def activation(self, x, activation_function, deriv=False):\n",
    "        \"\"\"Activation function (sigmoid, reLU, softmax)\"\"\"\n",
    "        if activation_function == 'sigmoid':\n",
    "            if deriv:\n",
    "                return self.activation(x, activation_function) * (1 - self.activation(x, activation_function))\n",
    "            return 1 / (1 + np.exp(-x))\n",
    "        elif activation_function == 'reLU':\n",
    "            if deriv:\n",
    "                return np.where(x > 0, 1, 0)  # Derivative of ReLU\n",
    "            return np.maximum(0, x)\n",
    "\n",
    "\n",
    "\n",
    "    def one_hot_encoding(self, y):\n",
    "        \"\"\"Encode digit to one-hot (used in error calculation of backpropagation)\"\"\"\n",
    "        y = y.reshape(-1, 10)        \n",
    "        encoded_y = np.zeros((y.size, y.max() + 1))\n",
    "        encoded_y[np.arange(y.size), y.flatten()] = 1\n",
    "        encoded_y = encoded_y.T\n",
    "        return encoded_y\n",
    "\n",
    "\n",
    "\n",
    "    def feedforward(self, x):\n",
    "        \"\"\"Feedforward\"\"\"\n",
    "        # input -> hidden\n",
    "        self.z1 = np.dot(x, self.w1) + self.b1\n",
    "        self.a1 = self.activation(self.z1, self.activation_function)\n",
    "\n",
    "        # hidden -> output\n",
    "        self.z2 = np.dot(self.a1, self.w2) + self.b2\n",
    "        self.a2 = self.activation(self.z2, self.activation_function)\n",
    "\n",
    "        return self.a2\n",
    "\n",
    "\n",
    "    def backpropagation(self, x, y, learning_rate):\n",
    "        \"\"\"Backpropagation\"\"\"        \n",
    "        self.m = y.size\n",
    "        \n",
    "        self.d_z2 = self.a2 - y # 10*1\n",
    "        self.d_w2 = np.dot(self.a1.T, self.d_z2) / self.m # 10*10 @ 10*1 = 10*1\n",
    "        self.d_b2 = np.sum(self.d_z2, axis=0, keepdims=True) / self.m # 1*1\n",
    "        \n",
    "        self.d_z1 = np.dot(self.d_z2, self.w2.T) * self.activation(self.z1, self.activation_function, deriv=True) # 10*1 @ 1*10\n",
    "        self.d_w1 = np.dot(x.T, self.d_z1) / self.m\n",
    "        self.d_b1 = np.sum(self.d_z1, axis=0, keepdims=True) / self.m\n",
    "\n",
    " \n",
    "    \n",
    "    def train(self, x, y, learning_rate, epochs):\n",
    "        \"\"\"Optimize weight and bias parameters for adam\"\"\" \n",
    "        self.input = x\n",
    "        self.output = y\n",
    "        self.learning_rate = learning_rate\n",
    "        self.epochs = epochs\n",
    "\n",
    "        if self.one_hot:\n",
    "            y = self.one_hot_encoding(y)\n",
    "\n",
    "        for epoch in range(epochs):\n",
    "            self.feedforward(x)\n",
    "            self.backpropagation(x, y, learning_rate)\n",
    "\n",
    "            # Calculate accuracy\n",
    "            #predictions = (self.predict(x) > 0.5).astype(int)  # Convert to integers\n",
    "            predictions = np.round(self.predict(x))  \n",
    "            accuracy = np.mean(predictions == y)\n",
    "            self.accuracies.append(accuracy)  # Store accuracy\n",
    "            \n",
    "            if not epoch % (epochs / 10):\n",
    "                loss = self.cross_entropy_loss(y, self.a2)\n",
    "                self.losses.append(loss)\n",
    "                print(f'Epoch {epoch}: {loss}')\n",
    "\n",
    "            self.update_adam()\n",
    "\n",
    "            \n",
    "    def update_adam(self):\n",
    "        # Update variables\n",
    "        self.m_w1 = self.beta1 * self.m_w1 + (1 - self.beta1) * self.d_w1\n",
    "        self.v_w1 = self.beta2 * self.v_w1 + (1 - self.beta2) * (self.d_w1 ** 2)\n",
    "        self.m_b1 = self.beta1 * self.m_b1 + (1 - self.beta1) * self.d_b1\n",
    "        self.v_b1 = self.beta2 * self.v_b1 + (1 - self.beta2) * (self.d_b1 ** 2)\n",
    "        self.m_w2 = self.beta1 * self.m_w2 + (1 - self.beta1) * self.d_w2\n",
    "        self.v_w2 = self.beta2 * self.v_w2 + (1 - self.beta2) * (self.d_w2 ** 2)\n",
    "        self.m_b2 = self.beta1 * self.m_b2 + (1 - self.beta1) * self.d_b2\n",
    "        self.v_b2 = self.beta2 * self.v_b2 + (1 - self.beta2) * (self.d_b2 ** 2)\n",
    "    \n",
    "\n",
    "        self.t += 1 \n",
    "        \n",
    "        # Bias correction for m and v variables\n",
    "        self.m_w1_hat = self.m_w1 / (1 - self.beta1 ** self.t)\n",
    "        self.m_w2_hat = self.m_w2 / (1 - self.beta1 ** self.t)\n",
    "        self.m_b1_hat = self.m_b1 / (1 - self.beta1 ** self.t)\n",
    "        self.m_b2_hat = self.m_b2 / (1 - self.beta1 ** self.t)\n",
    "        self.v_w1_hat = self.v_w1 / (1 - self.beta2 ** self.t)\n",
    "        self.v_w2_hat = self.v_w2 / (1 - self.beta2 ** self.t)\n",
    "        self.v_b1_hat = self.v_b1 / (1 - self.beta2 ** self.t)\n",
    "        self.v_b2_hat = self.v_b2 / (1 - self.beta2 ** self.t)\n",
    "\n",
    "    \n",
    "        # Update weights and biases with bias correction\n",
    "        self.w1 -= self.m_w1_hat * learning_rate / (np.sqrt(self.v_w1_hat) + self.epsilon)\n",
    "        self.w2 -= self.m_w2_hat * learning_rate / (np.sqrt(self.v_w2_hat) + self.epsilon)\n",
    "        self.b1 -= self.m_b1_hat * learning_rate / (np.sqrt(self.v_b1_hat) + self.epsilon)\n",
    "        self.b2 -= self.m_b2_hat * learning_rate / (np.sqrt(self.v_b2_hat) + self.epsilon)\n",
    "\n",
    "\n",
    "    def cross_entropy_loss(self, y_true, y_pred):\n",
    "        \"\"\"Calculate categorical cross-entropy loss\"\"\"\n",
    "        epsilon = 1e-10  # Small value to prevent log(0) cases\n",
    "        y_pred_clipped = np.clip(y_pred, epsilon, 1 - epsilon)  # Clip predictions to avoid log(0)\n",
    "        m = y_true.shape[0]  # Number of examples\n",
    "        loss = -np.sum(y_true * np.log(y_pred_clipped)) / m\n",
    "        return loss\n",
    "\n",
    "    def predict(self, x):\n",
    "        \"\"\"Get feedforward result with current parameters\"\"\"\n",
    "        return self.feedforward(x)\n",
    "        \n",
    "    def graph(self, graph_type, name=None, xlim=None):\n",
    "        \"\"\"Graph information about neural network performance\"\"\"\n",
    "        \n",
    "        # Check graph type\n",
    "        if graph_type is None:\n",
    "            raise ValueError('Unknown graph type')\n",
    "        \n",
    "        # Generate name if no name is given\n",
    "        if name is None:\n",
    "            name = datetime.now().strftime('%Y_%m_%d_%H_%M_%S_%f')\n",
    "    \n",
    "        # Add parameter box for plot\n",
    "        parameters = (\n",
    "            'Parameters\\n\\n'\n",
    "            f'Input nodes: {self.input_size}\\n'\n",
    "            f'Hidden nodes: {self.hidden_size}\\n'\n",
    "            f'Output nodes: {self.output_size}\\n'\n",
    "            f'Learning rate: {self.learning_rate}\\n'\n",
    "            f'Activation function: {self.activation_function}\\n'\n",
    "            f'Epochs: {self.epochs}'\n",
    "        )\n",
    "    \n",
    "        fig, (ax1, ax2) = plt.subplots(1, 2, gridspec_kw={'width_ratios': [8, 1]}, figsize=(7.2, 4.8))\n",
    "        ax2.text(-0.2, 0.7, parameters, bbox=dict(facecolor='white', alpha=0.5), transform=ax2.transAxes)\n",
    "        ax2.axis('off')\n",
    "    \n",
    "        # Set x-axis limits\n",
    "        if xlim is not None:\n",
    "            ax1.set_xlim(xlim)\n",
    "    \n",
    "        # Plot loss vs epoch\n",
    "        if graph_type == 'loss_epoch':\n",
    "            ax1.plot(self.losses)            \n",
    "            ax1.set_title('Loss vs epoch')\n",
    "            ax1.set_xlabel('Epoch')\n",
    "            ax1.set_ylabel('Loss')\n",
    "            ax1.grid()\n",
    "            fig.savefig(f'./graphs/loss_{name}', dpi=300)\n",
    "    \n",
    "        # Plot accuracy vs epoch \n",
    "        if graph_type == 'accuracy_epoch':\n",
    "            ax1.plot(self.accuracies) \n",
    "            ax1.set_title('Accuracy vs Epoch') \n",
    "            ax1.set_xlabel('Epoch') \n",
    "            ax1.set_ylabel('Accuracy')\n",
    "            ax1.grid() \n",
    "            fig.savefig(f'./graphs/accuracy_{name}', dpi=300)\n",
    "    \n",
    "        # Plot confusion matrix\n",
    "        elif graph_type == 'confusion':\n",
    "            matrix = np.array([self.feedforward(value).squeeze() for value in self.input]).T\n",
    "            normalized_matrix = matrix.astype('float') / matrix.sum(axis=1)[:, np.newaxis]  # Normalize confusion matrix\n",
    "            im = ax1.matshow(normalized_matrix, cmap='viridis')\n",
    "\n",
    "    \n",
    "    \n",
    "            for i in range(matrix.shape[0]):                \n",
    "                for j in range(matrix.shape[1]):\n",
    "                    ax1.text(j, i, f'{np.round(matrix[i, j], 2)}', ha='center', va='center', color='white', size='8')\n",
    "    \n",
    "            ax1.set_title('Confusion matrix')\n",
    "            ax1.set_xlabel('Predicted digit')\n",
    "            ax1.set_ylabel('Real digit')\n",
    "            ax1.set_xticks(np.arange(len(self.input)))\n",
    "            ax1.set_yticks(np.arange(len(self.input)))\n",
    "            fig.colorbar(im, ax=ax1)\n",
    "            fig.savefig(f'./graphs/confusion_{name}', dpi=300);\n"
   ]
  },
  {
   "cell_type": "code",
   "execution_count": null,
   "id": "1cccd201-174f-416c-bb34-5590cbacd920",
   "metadata": {
    "ExecuteTime": {
     "end_time": "2024-05-06T21:14:55.470897Z",
     "start_time": "2024-05-06T21:14:55.466061Z"
    }
   },
   "outputs": [],
   "source": []
  },
  {
   "cell_type": "code",
   "execution_count": null,
   "id": "35ae5f27-7fdf-4fd3-9632-1fccc643aba4",
   "metadata": {
    "ExecuteTime": {
     "end_time": "2024-05-06T21:14:59.144152Z",
     "start_time": "2024-05-06T21:14:55.478264Z"
    },
    "scrolled": true
   },
   "outputs": [],
   "source": [
    "learning_rate = 0.1\n",
    "epochs = 10000\n",
    "nn_A = NeuralNetwork(2, 2, 1)\n",
    "nn_A.train(x, y, learning_rate, epochs)\n",
    "nn_A.predict(x)"
   ]
  },
  {
   "cell_type": "markdown",
   "id": "321fae33-69ef-44d3-a5cd-bbd33a869a7a",
   "metadata": {},
   "source": [
    "### Question B"
   ]
  },
  {
   "cell_type": "markdown",
   "id": "328a2d07-bbf6-429f-b7aa-75748af34697",
   "metadata": {},
   "source": [
    "Load raw data"
   ]
  },
  {
   "cell_type": "code",
   "execution_count": null,
   "id": "130cf23d-6d63-4f48-bb5f-d0417b3b5e6e",
   "metadata": {
    "ExecuteTime": {
     "end_time": "2024-05-06T21:14:59.337876Z",
     "start_time": "2024-05-06T21:14:59.146786Z"
    }
   },
   "outputs": [],
   "source": [
    "data = np.loadtxt(\"TP3-ej3-digitos.txt\", dtype=np.uint8) \n",
    "plt.imshow(data);"
   ]
  },
  {
   "cell_type": "markdown",
   "id": "a38f1f86-83e0-4add-9d64-3e4a9843dbd4",
   "metadata": {},
   "source": [
    "Flatten data"
   ]
  },
  {
   "cell_type": "code",
   "execution_count": null,
   "id": "bf7d500a-1154-4311-9a6e-8d4567a464de",
   "metadata": {
    "ExecuteTime": {
     "end_time": "2024-05-06T21:14:59.350296Z",
     "start_time": "2024-05-06T21:14:59.340139Z"
    }
   },
   "outputs": [],
   "source": [
    "data_flattened = data.flatten()\n",
    "data_flattened = np.reshape(data_flattened, (10, 35))\n",
    "\n",
    "print(data_flattened.shape)\n",
    "data_flattened"
   ]
  },
  {
   "cell_type": "markdown",
   "id": "8c3c2454-f849-4ffb-859a-c3f9fad87283",
   "metadata": {},
   "source": [
    "Initialize x input (flattened digit) and y output (result of whether digit is pair)"
   ]
  },
  {
   "cell_type": "code",
   "execution_count": null,
   "id": "0b11c14d-c55b-403d-b5ed-fb0294878a64",
   "metadata": {
    "ExecuteTime": {
     "end_time": "2024-05-06T21:15:00.389576Z",
     "start_time": "2024-05-06T21:14:59.358274Z"
    }
   },
   "outputs": [],
   "source": [
    "x = data_flattened\n",
    "y = np.array([1, 0, 1, 0, 1, 0, 1, 0, 1, 0]).reshape(-1, 1)\n",
    "\n",
    "plt.figure(figsize=(10, 3))\n",
    "for i, img in enumerate(data_flattened):\n",
    "    plt.subplot(1, 10, i+1)\n",
    "    plt.title('Label:' + str(y[i]))\n",
    "    plt.axis('off')\n",
    "    plt.imshow(np.reshape(img, (7,5)))"
   ]
  },
  {
   "cell_type": "code",
   "execution_count": null,
   "id": "8dcdad80-efe7-492b-b705-b9b8b5619b1d",
   "metadata": {
    "ExecuteTime": {
     "end_time": "2024-05-06T21:15:03.841337Z",
     "start_time": "2024-05-06T21:15:00.392728Z"
    }
   },
   "outputs": [],
   "source": [
    "input_size = 35\n",
    "hidden_size = 10\n",
    "output_size = 1\n",
    "\n",
    "learning_rate = 0.001\n",
    "epochs = 10000\n",
    "\n",
    "nn_B = NeuralNetwork(input_size, hidden_size, output_size)\n",
    "nn_B.train(x, y, learning_rate, epochs)\n",
    "nn_B.predict(x)"
   ]
  },
  {
   "cell_type": "code",
   "execution_count": null,
   "id": "cd28f076-a29c-4723-bffb-065868873cb8",
   "metadata": {
    "ExecuteTime": {
     "end_time": "2024-05-06T21:15:04.008360Z",
     "start_time": "2024-05-06T21:15:03.844425Z"
    }
   },
   "outputs": [],
   "source": [
    "digit = 4\n",
    "\n",
    "plt.figure(figsize=(2,2))\n",
    "plt.imshow(np.reshape(data_flattened[digit], (7,5)));\n",
    "res = nn_B.predict(data_flattened[digit])\n",
    "print('digit is even:', res)"
   ]
  },
  {
   "cell_type": "code",
   "execution_count": null,
   "id": "07029953-bc45-4394-9823-a765982b38dd",
   "metadata": {
    "ExecuteTime": {
     "end_time": "2024-05-06T21:15:04.025436Z",
     "start_time": "2024-05-06T21:15:04.011749Z"
    }
   },
   "outputs": [],
   "source": [
    "threshold = 0.5\n",
    "res = nn_B.predict(data_flattened[digit])\n",
    "is_even = res > threshold\n",
    "print(f'The digit is even: {is_even}')"
   ]
  },
  {
   "cell_type": "code",
   "execution_count": null,
   "id": "a6a4495a-0def-418c-bec9-aafab48919dd",
   "metadata": {
    "ExecuteTime": {
     "end_time": "2024-05-06T21:15:04.032985Z",
     "start_time": "2024-05-06T21:15:04.027945Z"
    }
   },
   "outputs": [],
   "source": []
  },
  {
   "cell_type": "markdown",
   "id": "89e2353a-43b3-448a-8e48-1eb8ac16fcd8",
   "metadata": {},
   "source": [
    "### Exercise C"
   ]
  },
  {
   "cell_type": "markdown",
   "id": "46fab504-d95e-4ac1-be7b-2c730ff23635",
   "metadata": {},
   "source": [
    "Initialize data\n",
    "- x: 10*35 (10 digits * 35 pixels each)\n",
    "- y: 10*1 (can be classified to 10 possible digits)"
   ]
  },
  {
   "cell_type": "code",
   "execution_count": null,
   "id": "d0e08481-ea25-4ca0-99ce-3b300b5e87a3",
   "metadata": {
    "ExecuteTime": {
     "end_time": "2024-05-06T21:15:04.957629Z",
     "start_time": "2024-05-06T21:15:04.037799Z"
    }
   },
   "outputs": [],
   "source": [
    "x = data_flattened\n",
    "y = np.arange(10).reshape(-1, 1)\n",
    "\n",
    "\n",
    "plt.figure(figsize=(10, 3))\n",
    "for i, img in enumerate(data_flattened):\n",
    "    plt.subplot(1, 10, i+1)\n",
    "    plt.title('Label:' + str(y[i]))\n",
    "    plt.axis('off')\n",
    "    plt.imshow(np.reshape(img, (7,5)))"
   ]
  },
  {
   "cell_type": "code",
   "execution_count": null,
   "id": "08be8432-e487-4625-bd43-869a1662cce5",
   "metadata": {
    "ExecuteTime": {
     "end_time": "2024-05-06T21:15:37.902342Z",
     "start_time": "2024-05-06T21:15:04.960588Z"
    },
    "scrolled": true
   },
   "outputs": [],
   "source": [
    "input_size = 35\n",
    "hidden_size = 10\n",
    "output_size = 10\n",
    "\n",
    "learning_rate = 0.00015\n",
    "epochs = 100000\n",
    "\n",
    "nn_C = NeuralNetwork(input_size, hidden_size, output_size, one_hot=True, activation_function='reLU')\n",
    "nn_C.train(x, y, learning_rate, epochs)\n",
    "nn_C.predict(x)"
   ]
  },
  {
   "cell_type": "code",
   "execution_count": null,
   "id": "5049ece1-4a4a-4ec2-9185-4d2747f250c6",
   "metadata": {
    "ExecuteTime": {
     "end_time": "2024-05-06T21:15:37.985903Z",
     "start_time": "2024-05-06T21:15:37.906547Z"
    }
   },
   "outputs": [],
   "source": [
    "digit = 3\n",
    "\n",
    "plt.figure(figsize=(2,2))\n",
    "plt.axis('off')\n",
    "plt.imshow(np.reshape(data_flattened[digit], (7,5)));\n",
    "res = nn_C.predict(data_flattened[digit])\n",
    "print(res)\n",
    "print('digit is:', np.argmax(res))"
   ]
  },
  {
   "cell_type": "code",
   "execution_count": null,
   "id": "5aedeb91-7d37-4f57-ac7f-b4a32682fdc9",
   "metadata": {
    "ExecuteTime": {
     "end_time": "2024-05-06T21:15:38.031360Z",
     "start_time": "2024-05-06T21:15:37.999178Z"
    }
   },
   "outputs": [],
   "source": [
    "def salt_pepper_noise(img, salt_probability, pepper_probability):\n",
    "    img_copy = np.copy(img)\n",
    "    salt = np.random.rand(img.size) < salt_probability\n",
    "    pepper = np.random.rand(img.size) < pepper_probability\n",
    "    img_copy[salt] = 1\n",
    "    img_copy[pepper] = 0\n",
    "    return img_copy\n",
    "\n",
    "def random_noise(img):\n",
    "    img_copy = np.copy(img)\n",
    "    img_copy = img_copy + np.random.rand(img_copy.size)\n",
    "    return img_copy\n",
    "\n",
    "def gaussian_noise(img, mean, std):\n",
    "    img_copy = np.copy(img)\n",
    "    img_copy = img_copy + np.random.normal(mean, std, img_copy.size)\n",
    "    return img_copy"
   ]
  },
  {
   "cell_type": "code",
   "execution_count": null,
   "id": "60365859-7eb2-455b-8f30-1205dc58b7d5",
   "metadata": {
    "ExecuteTime": {
     "end_time": "2024-05-06T21:15:38.498364Z",
     "start_time": "2024-05-06T21:15:38.044645Z"
    }
   },
   "outputs": [],
   "source": [
    "salt_pepper_digit = salt_pepper_noise(data_flattened[digit], 0.05, 0.05)\n",
    "random_digit = random_noise(data_flattened[digit])\n",
    "gauss_digit = gaussian_noise(data_flattened[digit], 0.1, 0.1)\n",
    "\n",
    "noised_data = [salt_pepper_digit, random_digit, gauss_digit]\n",
    "titles = ['S&P', 'Random', 'Gauss']\n",
    "\n",
    "plt.figure(figsize=(4,3))\n",
    "for i, img in enumerate(noised_data):\n",
    "    plt.subplot(1, 3, i+1)\n",
    "    plt.title(titles[i])\n",
    "    plt.axis('off')\n",
    "    plt.imshow(np.reshape(img, (7,5)));"
   ]
  },
  {
   "cell_type": "code",
   "execution_count": null,
   "id": "99370322-7da3-41f4-be3d-e013e0652a4b",
   "metadata": {
    "ExecuteTime": {
     "end_time": "2024-05-06T21:15:38.527776Z",
     "start_time": "2024-05-06T21:15:38.502345Z"
    }
   },
   "outputs": [],
   "source": [
    "np.argmax(nn_C.predict(random_digit))"
   ]
  },
  {
   "cell_type": "code",
   "execution_count": null,
   "id": "2e5ac177-37d5-44fd-8a6a-7207476f561c",
   "metadata": {
    "ExecuteTime": {
     "end_time": "2024-05-06T21:15:38.550495Z",
     "start_time": "2024-05-06T21:15:38.533636Z"
    }
   },
   "outputs": [],
   "source": [
    "#analyzing"
   ]
  },
  {
   "cell_type": "code",
   "execution_count": null,
   "id": "bcd561dc-e3fa-4785-9193-b5abf467cf92",
   "metadata": {
    "ExecuteTime": {
     "end_time": "2024-05-06T21:15:38.550495Z",
     "start_time": "2024-05-06T21:15:38.533636Z"
    }
   },
   "outputs": [],
   "source": [
    "#analyzing"
   ]
  },
  {
   "cell_type": "code",
   "execution_count": null,
   "id": "cb378110-c745-4dec-bdc7-849ac4bebbd0",
   "metadata": {
    "ExecuteTime": {
     "end_time": "2024-05-06T21:15:40.432492Z",
     "start_time": "2024-05-06T21:15:38.556393Z"
    }
   },
   "outputs": [],
   "source": [
    "nn_A.graph('loss_epoch')\n",
    "nn_A.graph(graph_type='accuracy_epoch')"
   ]
  },
  {
   "cell_type": "code",
   "execution_count": null,
   "id": "0bd6a620-bdc8-404f-8b0d-2150cd341dd4",
   "metadata": {
    "ExecuteTime": {
     "end_time": "2024-05-06T21:15:41.891859Z",
     "start_time": "2024-05-06T21:15:40.435232Z"
    }
   },
   "outputs": [],
   "source": [
    "nn_B.graph('loss_epoch')\n",
    "nn_B.graph(graph_type='accuracy_epoch')"
   ]
  },
  {
   "cell_type": "code",
   "execution_count": null,
   "id": "ca946fbd-27a8-43fd-a920-99530dfa5b51",
   "metadata": {
    "ExecuteTime": {
     "end_time": "2024-05-06T21:15:42.770982Z",
     "start_time": "2024-05-06T21:15:41.896152Z"
    }
   },
   "outputs": [],
   "source": [
    "nn_C.graph('loss_epoch')"
   ]
  },
  {
   "cell_type": "code",
   "execution_count": null,
   "id": "8c4a1717-6f36-4044-8571-00836217e919",
   "metadata": {
    "ExecuteTime": {
     "end_time": "2024-05-06T21:15:44.254399Z",
     "start_time": "2024-05-06T21:15:42.772851Z"
    }
   },
   "outputs": [],
   "source": [
    "nn_C.graph(graph_type='confusion')"
   ]
  },
  {
   "cell_type": "code",
   "execution_count": null,
   "id": "e7515d5f-48a5-4cee-8b23-3b148966ff3f",
   "metadata": {},
   "outputs": [],
   "source": []
  }
 ],
 "metadata": {
  "kernelspec": {
   "display_name": "Python 3 (ipykernel)",
   "language": "python",
   "name": "python3"
  },
  "language_info": {
   "codemirror_mode": {
    "name": "ipython",
    "version": 3
   },
   "file_extension": ".py",
   "mimetype": "text/x-python",
   "name": "python",
   "nbconvert_exporter": "python",
   "pygments_lexer": "ipython3",
   "version": "3.12.2"
  }
 },
 "nbformat": 4,
 "nbformat_minor": 5
}
