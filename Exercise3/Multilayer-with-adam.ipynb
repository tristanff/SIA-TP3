{
 "cells": [
  {
   "cell_type": "code",
   "execution_count": 1,
   "id": "9a96ed9a-3772-4920-bae0-431d1815a803",
   "metadata": {},
   "outputs": [],
   "source": [
    "import cv2\n",
    "import numpy as np\n",
    "import matplotlib.pyplot as plt\n",
    "import pandas as pd"
   ]
  },
  {
   "cell_type": "markdown",
   "id": "6c4257f7-a776-4d24-9c1e-9a3bf8f2b334",
   "metadata": {},
   "source": [
    "# Exercise 3"
   ]
  },
  {
   "cell_type": "markdown",
   "id": "29ea0883-201e-4a77-8b8b-5945e2c54603",
   "metadata": {},
   "source": [
    "### Question A"
   ]
  },
  {
   "cell_type": "code",
   "execution_count": 2,
   "id": "0bcb7d5a-478c-41be-a31f-87cd6f017bcb",
   "metadata": {},
   "outputs": [],
   "source": [
    "x = np.array([[0, 0],\n",
    "              [0, 1],\n",
    "              [1, 0],\n",
    "              [1, 1]])\n",
    "\n",
    "y = np.array([[0],\n",
    "              [1],\n",
    "              [1],\n",
    "              [0]])"
   ]
  },
  {
   "cell_type": "code",
   "execution_count": 3,
   "id": "cb4bc2b1-bd14-46b3-9eca-7da83fbd264d",
   "metadata": {},
   "outputs": [
    {
     "data": {
      "text/html": [
       "<style type=\"text/css\">\n",
       "</style>\n",
       "<table id=\"T_89e88\">\n",
       "  <thead>\n",
       "    <tr>\n",
       "      <th id=\"T_89e88_level0_col0\" class=\"col_heading level0 col0\" >x1</th>\n",
       "      <th id=\"T_89e88_level0_col1\" class=\"col_heading level0 col1\" >x2</th>\n",
       "      <th id=\"T_89e88_level0_col2\" class=\"col_heading level0 col2\" >y</th>\n",
       "    </tr>\n",
       "  </thead>\n",
       "  <tbody>\n",
       "    <tr>\n",
       "      <td id=\"T_89e88_row0_col0\" class=\"data row0 col0\" >0</td>\n",
       "      <td id=\"T_89e88_row0_col1\" class=\"data row0 col1\" >0</td>\n",
       "      <td id=\"T_89e88_row0_col2\" class=\"data row0 col2\" >0</td>\n",
       "    </tr>\n",
       "    <tr>\n",
       "      <td id=\"T_89e88_row1_col0\" class=\"data row1 col0\" >0</td>\n",
       "      <td id=\"T_89e88_row1_col1\" class=\"data row1 col1\" >1</td>\n",
       "      <td id=\"T_89e88_row1_col2\" class=\"data row1 col2\" >1</td>\n",
       "    </tr>\n",
       "    <tr>\n",
       "      <td id=\"T_89e88_row2_col0\" class=\"data row2 col0\" >1</td>\n",
       "      <td id=\"T_89e88_row2_col1\" class=\"data row2 col1\" >0</td>\n",
       "      <td id=\"T_89e88_row2_col2\" class=\"data row2 col2\" >1</td>\n",
       "    </tr>\n",
       "    <tr>\n",
       "      <td id=\"T_89e88_row3_col0\" class=\"data row3 col0\" >1</td>\n",
       "      <td id=\"T_89e88_row3_col1\" class=\"data row3 col1\" >1</td>\n",
       "      <td id=\"T_89e88_row3_col2\" class=\"data row3 col2\" >0</td>\n",
       "    </tr>\n",
       "  </tbody>\n",
       "</table>\n"
      ],
      "text/plain": [
       "<pandas.io.formats.style.Styler at 0x182106c6870>"
      ]
     },
     "execution_count": 3,
     "metadata": {},
     "output_type": "execute_result"
    }
   ],
   "source": [
    "df = pd.DataFrame(np.concatenate((x, y), axis=1), columns=('x1', 'x2', 'y'))\n",
    "df.style.hide()"
   ]
  },
  {
   "cell_type": "code",
   "execution_count": 4,
   "id": "8319012a-9df9-46b8-aa65-72fbeb3be14a",
   "metadata": {},
   "outputs": [
    {
     "data": {
      "image/png": "[encoded data removed]",
      "text/plain": [
       "<Figure size 200x200 with 1 Axes>"
      ]
     },
     "metadata": {},
     "output_type": "display_data"
    }
   ],
   "source": [
    "plt.figure(figsize=(2,2))\n",
    "\n",
    "plt.plot(*x[0], 'o', color='blue')\n",
    "plt.plot(*x[1], 'o', color='red')\n",
    "plt.plot(*x[2], 'o', color='red')\n",
    "plt.plot(*x[3], 'o', color='blue')\n",
    "plt.grid()\n",
    "\n",
    "plt.show()"
   ]
  },
  {
   "cell_type": "code",
   "execution_count": 5,
   "id": "762a2d09-40c3-4b2f-9e30-fa817daf29ff",
   "metadata": {
    "editable": true,
    "slideshow": {
     "slide_type": ""
    },
    "tags": []
   },
   "outputs": [],
   "source": [
    "class NeuralNetwork:\n",
    "    def __init__(self, input_size, hidden_size, output_size, one_hot=False):\n",
    "        # Initialize number of nodes of input, hidden, and output layer\n",
    "        self.input_size = input_size\n",
    "        self.hidden_size = hidden_size\n",
    "        self.output_size = output_size\n",
    "\n",
    "\n",
    "        # Initialize weights (w) and biases (b)\n",
    "        # input -> hidden\n",
    "        self.w1 = np.random.rand(self.input_size, self.hidden_size) # 35*10\n",
    "        self.b1 = np.zeros((1, self.hidden_size)) # 1*10\n",
    "\n",
    "        # hidden -> output\n",
    "        self.w2 = np.random.rand(self.hidden_size, self.output_size) # 10*1\n",
    "        self.b2 = np.zeros((1, self.output_size)) # 1*1\n",
    "\n",
    "        #adam parameters\n",
    "        self.beta1 = 0.9\n",
    "        self.beta2 = 0.999\n",
    "        self.epsilon = 1e-8\n",
    "\n",
    "        # Increment the time step\n",
    "        self.t =0\n",
    "\n",
    "        \n",
    "        # Use of one_hot encoding\n",
    "        self.one_hot = one_hot\n",
    "        \n",
    "       # Initialize moving average variables for weights\n",
    "        self.m_w1 = np.zeros_like(self.w1)\n",
    "        self.v_w1 = np.zeros_like(self.w1)\n",
    "        self.m_w2 = np.zeros_like(self.w2)\n",
    "        self.v_w2 = np.zeros_like(self.w2)\n",
    "\n",
    "        # Initialize moving average variables for biases\n",
    "        self.m_b1 = np.zeros_like(self.b1)\n",
    "        self.v_b1 = np.zeros_like(self.b1)\n",
    "        self.m_b2 = np.zeros_like(self.b2)\n",
    "        self.v_b2 = np.zeros_like(self.b2)\n",
    "    \n",
    "\n",
    "    def sigmoid(self, x, deriv=False):\n",
    "        \"\"\"Sigmoid activation function\"\"\"\n",
    "        if deriv:\n",
    "            return self.sigmoid(x) * (1 - self.sigmoid(x))\n",
    "        return 1 / (1 + np.exp(-x))\n",
    "\n",
    "    def reLU(self, x):\n",
    "        \"\"\"reLU activation function\"\"\"\n",
    "        return np.maximum(0, x)\n",
    "\n",
    "    def one_hot_encoding(self, y):\n",
    "        \"\"\"Encode digit to one-hot (used in error calculation of backpropagation)\"\"\"\n",
    "        y = y.reshape(-1, 10)\n",
    "        encoded_y = np.zeros((y.size, y.max() + 1))\n",
    "        encoded_y[np.arange(y.size), y.flatten()] = 1\n",
    "        encoded_y = encoded_y.T\n",
    "        return encoded_y\n",
    "\n",
    "\n",
    "    def feedforward(self, x):\n",
    "        \"\"\"Feedforward\"\"\"\n",
    "        # input -> hidden\n",
    "        self.z1 = np.dot(x, self.w1) + self.b1 # 10*35 @ 35*10 = 10*10\n",
    "        self.a1 = self.sigmoid(self.z1)\n",
    "\n",
    "\n",
    "\n",
    "        # hidden -> output\n",
    "        self.z2 = np.dot(self.a1, self.w2) + self.b2 # 10*10 @ 10*1 = 10*1\n",
    "        self.a2 = self.sigmoid(self.z2) # 10*1\n",
    "\n",
    "        #self.a2 = self.softmax(self.z2)\n",
    "\n",
    "        return self.a2\n",
    "\n",
    "    #def softmax(self, x):\n",
    "        \"\"\"Stable softmax activation function\"\"\"\n",
    "        #e_x = np.exp(x - np.max(x, axis=1, keepdims=True))\n",
    "        #return e_x / np.sum(e_x, axis=1, keepdims=True)\n",
    "\n",
    "    def backpropagation(self, x, y, learning_rate):\n",
    "        \"\"\"Backpropagation\"\"\"        \n",
    "        self.m = y.size\n",
    "        \n",
    "        self.d_z2 = self.a2 - y # 10*1\n",
    "        self.d_w2 = np.dot(self.a1.T, self.d_z2) / self.m # 10*10 @ 10*1 = 10*1\n",
    "        self.d_b2 = np.sum(self.d_z2) / self.m # 1*1\n",
    "        \n",
    "        self.d_z1 = np.dot(self.d_z2, self.w2.T) * self.sigmoid(self.z1, deriv=True) # 10*1 @ 1*10\n",
    "        self.d_w1 = np.dot(x.T, self.d_z1) / self.m\n",
    "        self.d_b1 = np.sum(self.d_z1) / self.m\n",
    "\n",
    "        #updating adam parameters m = beta1 * m + (1 - beta1) * d_ and v = beta2 * v + (1 - beta2) * (d_ ** 2)\n",
    "        self.m_w1 = self.beta1 * self.m_w1 + (1 - self.beta1) * self.d_w1\n",
    "        self.v_w1 = self.beta2 * self.v_w1 + (1 - self.beta2) * (self.d_w1 ** 2)\n",
    "        self.m_b1 = self.beta1 * self.m_b1 + (1 - self.beta1) * self.d_b1\n",
    "        self.v_b1 = self.beta2 * self.v_b1 + (1 - self.beta2) * (self.d_b1 ** 2)\n",
    "        self.m_w2 = self.beta1 * self.m_w2 + (1 - self.beta1) * self.d_w2\n",
    "        self.v_w2 = self.beta2 * self.v_w2 + (1 - self.beta2) * (self.d_w2 ** 2)\n",
    "        self.m_b2 = self.beta1 * self.m_b2 + (1 - self.beta1) * self.d_b2\n",
    "        self.v_b2 = self.beta2 * self.v_b2 + (1 - self.beta2) * (self.d_b2 ** 2)\n",
    "\n",
    "        #bias corrections average\n",
    "        m_w1_hat = self.m_w1 / (1 - self.beta1)\n",
    "        v_w1_hat = self.v_w1 / (1 - self.beta2)\n",
    "        m_b1_hat = self.m_b1 / (1 - self.beta1)\n",
    "        v_b1_hat = self.v_b1 / (1 - self.beta2)\n",
    "        m_w2_hat = self.m_w2 / (1 - self.beta1)\n",
    "        v_w2_hat = self.v_w2 / (1 - self.beta2)\n",
    "        m_b2_hat = self.m_b2 / (1 - self.beta1)\n",
    "        v_b2_hat = self.v_b2 / (1 - self.beta2)\n",
    "\n",
    "        #updating bias and weights \n",
    "        self.w1 -= m_w1_hat * learning_rate /(np.sqrt(v_w1_hat)+ self.epsilon)\n",
    "        self.b1 -= m_b1_hat * learning_rate /(np.sqrt(v_b1_hat)+ self.epsilon)\n",
    "        self.w2 -= m_w2_hat * learning_rate /(np.sqrt(v_w2_hat)+ self.epsilon)\n",
    "        self.b2 -= m_b2_hat * learning_rate /(np.sqrt(v_b2_hat)+ self.epsilon)\n",
    "\n",
    "    \n",
    "\n",
    "    def train(self, x, y, learning_rate, epochs):\n",
    "        \"\"\"Optimize weight and bias parameters for adam\"\"\" \n",
    "\n",
    "        if self.one_hot:\n",
    "            y = self.one_hot_encoding(y)\n",
    "\n",
    "        for epoch in range(epochs):\n",
    "            self.feedforward(x)\n",
    "            self.backpropagation(x, y, learning_rate)\n",
    "\n",
    "            if not epoch % (epochs / 10):\n",
    "                loss = self.cross_entropy_loss(y, self.a2)\n",
    "                print(f'Epoch {epoch}: {loss}')\n",
    "            \n",
    "            self.update_adam()\n",
    "\n",
    "\n",
    "    def cross_entropy_loss(self, y_true, y_pred):\n",
    "        \"\"\"Calculate categorical cross-entropy loss\"\"\"\n",
    "        epsilon = 1e-10  # Small value to prevent log(0) cases\n",
    "        y_pred_clipped = np.clip(y_pred, epsilon, 1 - epsilon)  # Clip predictions to avoid log(0)\n",
    "        m = y_true.shape[0]  # Number of examples\n",
    "        loss = -np.sum(y_true * np.log(y_pred_clipped)) / m\n",
    "        return loss\n",
    "\n",
    "    def update_adam(self):\n",
    "        # Update variables\n",
    "        self.m_w1 = self.beta1 * self.m_w1 + (1 - self.beta1) * self.d_w1\n",
    "        self.v_w1 = self.beta2 * self.v_w1 + (1 - self.beta2) * (self.d_w1 ** 2)\n",
    "        self.m_b1 = self.beta1 * self.m_b1 + (1 - self.beta1) * self.d_b1\n",
    "        self.v_b1 = self.beta2 * self.v_b1 + (1 - self.beta2) * (self.d_b1 ** 2)\n",
    "        self.m_w2 = self.beta1 * self.m_w2 + (1 - self.beta1) * self.d_w2\n",
    "        self.v_w2 = self.beta2 * self.v_w2 + (1 - self.beta2) * (self.d_w2 ** 2)\n",
    "        self.m_b2 = self.beta1 * self.m_b2 + (1 - self.beta1) * self.d_b2\n",
    "        self.v_b2 = self.beta2 * self.v_b2 + (1 - self.beta2) * (self.d_b2 ** 2)\n",
    "    \n",
    "\n",
    "        self.t += 1 \n",
    "        \n",
    "        # Bias correction for m and v variables\n",
    "        self.m_w1_hat = self.m_w1 / (1 - self.beta1 ** self.t)\n",
    "        self.m_w2_hat = self.m_w2 / (1 - self.beta1 ** self.t)\n",
    "        self.m_b1_hat = self.m_b1 / (1 - self.beta1 ** self.t)\n",
    "        self.m_b2_hat = self.m_b2 / (1 - self.beta1 ** self.t)\n",
    "        self.v_w1_hat = self.v_w1 / (1 - self.beta2 ** self.t)\n",
    "        self.v_w2_hat = self.v_w2 / (1 - self.beta2 ** self.t)\n",
    "        self.v_b1_hat = self.v_b1 / (1 - self.beta2 ** self.t)\n",
    "        self.v_b2_hat = self.v_b2 / (1 - self.beta2 ** self.t)\n",
    "\n",
    "    \n",
    "        # Update weights and biases with bias correction\n",
    "        self.w1 -= self.m_w1_hat * learning_rate / (np.sqrt(self.v_w1_hat) + self.epsilon)\n",
    "        self.w2 -= self.m_w2_hat * learning_rate / (np.sqrt(self.v_w2_hat) + self.epsilon)\n",
    "        self.b1 -= self.m_b1_hat * learning_rate / (np.sqrt(self.v_b1_hat) + self.epsilon)\n",
    "        self.b2 -= self.m_b2_hat * learning_rate / (np.sqrt(self.v_b2_hat) + self.epsilon)\n",
    "        \n",
    "    def predict(self, x):\n",
    "        \"\"\"Get feedforward result with current parameters\"\"\"\n",
    "        return self.feedforward(x)"
   ]
  },
  {
   "cell_type": "code",
   "execution_count": 6,
   "id": "35ae5f27-7fdf-4fd3-9632-1fccc643aba4",
   "metadata": {
    "scrolled": true
   },
   "outputs": [
    {
     "name": "stdout",
     "output_type": "stream",
     "text": [
      "Epoch 0: 0.2727151279796803\n",
      "Epoch 1000: 3.741419323324832e-05\n",
      "Epoch 2000: 7.372253169631511e-06\n",
      "Epoch 3000: 2.088703220453361e-06\n",
      "Epoch 4000: 6.682736325892119e-07\n",
      "Epoch 5000: 2.249403775515113e-07\n",
      "Epoch 6000: 7.752781571098839e-08\n",
      "Epoch 7000: 2.7052826961095974e-08\n",
      "Epoch 8000: 9.512497602406334e-09\n",
      "Epoch 9000: 3.3661361034186425e-09\n"
     ]
    },
    {
     "data": {
      "text/plain": [
       "array([[5.69838515e-10],\n",
       "       [9.99999998e-01],\n",
       "       [9.99999998e-01],\n",
       "       [2.31703469e-08]])"
      ]
     },
     "execution_count": 6,
     "metadata": {},
     "output_type": "execute_result"
    }
   ],
   "source": [
    "learning_rate = 0.1\n",
    "epochs = 10000\n",
    "nn_A = NeuralNetwork(2, 2, 1)\n",
    "nn_A.train(x, y, learning_rate, epochs)\n",
    "nn_A.predict(x)"
   ]
  },
  {
   "cell_type": "markdown",
   "id": "321fae33-69ef-44d3-a5cd-bbd33a869a7a",
   "metadata": {},
   "source": [
    "### Question B"
   ]
  },
  {
   "cell_type": "markdown",
   "id": "328a2d07-bbf6-429f-b7aa-75748af34697",
   "metadata": {},
   "source": [
    "Load raw data"
   ]
  },
  {
   "cell_type": "code",
   "execution_count": 7,
   "id": "130cf23d-6d63-4f48-bb5f-d0417b3b5e6e",
   "metadata": {},
   "outputs": [
    {
     "data": {
      "image/png": "[encoded data removed]",
      "text/plain": [
       "<Figure size 640x480 with 1 Axes>"
      ]
     },
     "metadata": {},
     "output_type": "display_data"
    }
   ],
   "source": [
    "data = np.loadtxt(\"TP3-ej3-digitos.txt\", dtype=np.uint8) \n",
    "plt.imshow(data);"
   ]
  },
  {
   "cell_type": "markdown",
   "id": "a38f1f86-83e0-4add-9d64-3e4a9843dbd4",
   "metadata": {},
   "source": [
    "Flatten data"
   ]
  },
  {
   "cell_type": "code",
   "execution_count": 8,
   "id": "bf7d500a-1154-4311-9a6e-8d4567a464de",
   "metadata": {},
   "outputs": [
    {
     "name": "stdout",
     "output_type": "stream",
     "text": [
      "(10, 35)\n"
     ]
    },
    {
     "data": {
      "text/plain": [
       "array([[0, 1, 1, 1, 0, 1, 0, 0, 0, 1, 1, 0, 0, 1, 1, 1, 0, 1, 0, 1, 1, 1,\n",
       "        0, 0, 1, 1, 0, 0, 0, 1, 0, 1, 1, 1, 0],\n",
       "       [0, 0, 1, 0, 0, 0, 1, 1, 0, 0, 0, 0, 1, 0, 0, 0, 0, 1, 0, 0, 0, 0,\n",
       "        1, 0, 0, 0, 0, 1, 0, 0, 0, 1, 1, 1, 0],\n",
       "       [0, 1, 1, 1, 0, 1, 0, 0, 0, 1, 0, 0, 0, 0, 1, 0, 0, 0, 1, 0, 0, 0,\n",
       "        1, 0, 0, 0, 1, 0, 0, 0, 1, 1, 1, 1, 1],\n",
       "       [0, 1, 1, 1, 0, 1, 0, 0, 0, 1, 0, 0, 0, 0, 1, 0, 0, 1, 1, 0, 0, 0,\n",
       "        0, 0, 1, 1, 0, 0, 0, 1, 0, 1, 1, 1, 0],\n",
       "       [0, 0, 0, 1, 0, 0, 0, 1, 1, 0, 0, 1, 0, 1, 0, 1, 0, 0, 1, 0, 1, 1,\n",
       "        1, 1, 1, 0, 0, 0, 1, 0, 0, 0, 0, 1, 0],\n",
       "       [1, 1, 1, 1, 1, 1, 0, 0, 0, 0, 1, 1, 1, 1, 0, 0, 0, 0, 0, 1, 0, 0,\n",
       "        0, 0, 1, 1, 0, 0, 0, 1, 0, 1, 1, 1, 0],\n",
       "       [0, 0, 1, 1, 0, 0, 1, 0, 0, 0, 1, 0, 0, 0, 0, 1, 1, 1, 1, 0, 1, 0,\n",
       "        0, 0, 1, 1, 0, 0, 0, 1, 0, 1, 1, 1, 0],\n",
       "       [1, 1, 1, 1, 1, 0, 0, 0, 0, 1, 0, 0, 0, 1, 0, 0, 0, 1, 0, 0, 0, 1,\n",
       "        0, 0, 0, 0, 1, 0, 0, 0, 0, 1, 0, 0, 0],\n",
       "       [0, 1, 1, 1, 0, 1, 0, 0, 0, 1, 1, 0, 0, 0, 1, 0, 1, 1, 1, 0, 1, 0,\n",
       "        0, 0, 1, 1, 0, 0, 0, 1, 0, 1, 1, 1, 0],\n",
       "       [0, 1, 1, 1, 0, 1, 0, 0, 0, 1, 1, 0, 0, 0, 1, 0, 1, 1, 1, 1, 0, 0,\n",
       "        0, 0, 1, 0, 0, 0, 1, 0, 0, 1, 1, 0, 0]], dtype=uint8)"
      ]
     },
     "execution_count": 8,
     "metadata": {},
     "output_type": "execute_result"
    }
   ],
   "source": [
    "data_flattened = data.flatten()\n",
    "data_flattened = np.reshape(data_flattened, (10, 35))\n",
    "\n",
    "print(data_flattened.shape)\n",
    "data_flattened"
   ]
  },
  {
   "cell_type": "markdown",
   "id": "8c3c2454-f849-4ffb-859a-c3f9fad87283",
   "metadata": {},
   "source": [
    "Initialize x input (flattened digit) and y output (result of whether digit is pair)"
   ]
  },
  {
   "cell_type": "code",
   "execution_count": 9,
   "id": "0b11c14d-c55b-403d-b5ed-fb0294878a64",
   "metadata": {},
   "outputs": [
    {
     "data": {
      "image/png": "[encoded data removed]",
      "text/plain": [
       "<Figure size 1000x300 with 10 Axes>"
      ]
     },
     "metadata": {},
     "output_type": "display_data"
    }
   ],
   "source": [
    "x = data_flattened\n",
    "y = np.array([1, 0, 1, 0, 1, 0, 1, 0, 1, 0]).reshape(-1, 1)\n",
    "\n",
    "plt.figure(figsize=(10, 3))\n",
    "for i, img in enumerate(data_flattened):\n",
    "    plt.subplot(1, 10, i+1)\n",
    "    plt.title('Label:' + str(y[i]))\n",
    "    plt.axis('off')\n",
    "    plt.imshow(np.reshape(img, (7,5)))"
   ]
  },
  {
   "cell_type": "code",
   "execution_count": 10,
   "id": "8dcdad80-efe7-492b-b705-b9b8b5619b1d",
   "metadata": {},
   "outputs": [
    {
     "name": "stdout",
     "output_type": "stream",
     "text": [
      "Epoch 0: 5.000000413951855e-11\n",
      "Epoch 1000: 4.9501397020870524e-05\n",
      "Epoch 2000: 9.62582630219261e-06\n",
      "Epoch 3000: 1.760283230379756e-06\n",
      "Epoch 4000: 5.052235838997701e-07\n",
      "Epoch 5000: 1.6769249365632187e-07\n",
      "Epoch 6000: 5.8594416881981065e-08\n",
      "Epoch 7000: 2.133389525853361e-08\n",
      "Epoch 8000: 7.979905887107666e-09\n",
      "Epoch 9000: 2.9205930625145965e-09\n"
     ]
    },
    {
     "data": {
      "text/plain": [
       "array([[1.00000000e+00],\n",
       "       [4.43095135e-09],\n",
       "       [1.00000000e+00],\n",
       "       [1.60579931e-10],\n",
       "       [1.00000000e+00],\n",
       "       [2.16989179e-15],\n",
       "       [1.00000000e+00],\n",
       "       [1.75794853e-08],\n",
       "       [9.99999990e-01],\n",
       "       [2.12405762e-11]])"
      ]
     },
     "execution_count": 10,
     "metadata": {},
     "output_type": "execute_result"
    }
   ],
   "source": [
    "input_size = 35\n",
    "hidden_size = 10\n",
    "output_size = 1\n",
    "\n",
    "learning_rate = 0.1\n",
    "epochs = 10000\n",
    "\n",
    "nn_B = NeuralNetwork(input_size, hidden_size, output_size)\n",
    "nn_B.train(x, y, learning_rate, epochs)\n",
    "nn_B.predict(x)"
   ]
  },
  {
   "cell_type": "code",
   "execution_count": 11,
   "id": "cd28f076-a29c-4723-bffb-065868873cb8",
   "metadata": {},
   "outputs": [
    {
     "name": "stdout",
     "output_type": "stream",
     "text": [
      "digit is even: [[1.60579931e-10]]\n"
     ]
    },
    {
     "data": {
      "image/png": "[encoded data removed]",
      "text/plain": [
       "<Figure size 200x200 with 1 Axes>"
      ]
     },
     "metadata": {},
     "output_type": "display_data"
    }
   ],
   "source": [
    "digit = 3\n",
    "\n",
    "plt.figure(figsize=(2,2))\n",
    "plt.imshow(np.reshape(data_flattened[digit], (7,5)));\n",
    "res = nn_B.predict(data_flattened[digit])\n",
    "print('digit is even:', res)"
   ]
  },
  {
   "cell_type": "code",
   "execution_count": 12,
   "id": "07029953-bc45-4394-9823-a765982b38dd",
   "metadata": {},
   "outputs": [
    {
     "name": "stdout",
     "output_type": "stream",
     "text": [
      "The digit is even: [[False]]\n"
     ]
    }
   ],
   "source": [
    "threshold = 0.5\n",
    "res = nn_B.predict(data_flattened[digit])\n",
    "is_even = res > threshold\n",
    "print(f'The digit is even: {is_even}')"
   ]
  },
  {
   "cell_type": "code",
   "execution_count": null,
   "id": "a6a4495a-0def-418c-bec9-aafab48919dd",
   "metadata": {},
   "outputs": [],
   "source": []
  },
  {
   "cell_type": "markdown",
   "id": "89e2353a-43b3-448a-8e48-1eb8ac16fcd8",
   "metadata": {},
   "source": [
    "### Exercise C"
   ]
  },
  {
   "cell_type": "markdown",
   "id": "46fab504-d95e-4ac1-be7b-2c730ff23635",
   "metadata": {},
   "source": [
    "Initialize data\n",
    "- x: 10*35 (10 digits * 35 pixels each)\n",
    "- y: 10*1 (can be classified to 10 possible digits)"
   ]
  },
  {
   "cell_type": "code",
   "execution_count": 13,
   "id": "d0e08481-ea25-4ca0-99ce-3b300b5e87a3",
   "metadata": {},
   "outputs": [
    {
     "data": {
      "image/png": "[encoded data removed]",
      "text/plain": [
       "<Figure size 1000x300 with 10 Axes>"
      ]
     },
     "metadata": {},
     "output_type": "display_data"
    }
   ],
   "source": [
    "x = data_flattened\n",
    "y = np.arange(10).reshape(-1, 1)\n",
    "\n",
    "\n",
    "plt.figure(figsize=(10, 3))\n",
    "for i, img in enumerate(data_flattened):\n",
    "    plt.subplot(1, 10, i+1)\n",
    "    plt.title('Label:' + str(y[i]))\n",
    "    plt.axis('off')\n",
    "    plt.imshow(np.reshape(img, (7,5)))"
   ]
  },
  {
   "cell_type": "code",
   "execution_count": 14,
   "id": "08be8432-e487-4625-bd43-869a1662cce5",
   "metadata": {},
   "outputs": [
    {
     "name": "stdout",
     "output_type": "stream",
     "text": [
      "Epoch 0: 5.362218679092287e-10\n"
     ]
    },
    {
     "name": "stderr",
     "output_type": "stream",
     "text": [
      "C:\\Users\\albab\\AppData\\Local\\Temp\\ipykernel_20628\\3646704852.py:47: RuntimeWarning: overflow encountered in exp\n",
      "  return 1 / (1 + np.exp(-x))\n"
     ]
    },
    {
     "name": "stdout",
     "output_type": "stream",
     "text": [
      "Epoch 10000: 6.629298627036628e-07\n",
      "Epoch 20000: 2.148490275079197e-10\n",
      "Epoch 30000: 1.000000082790371e-10\n",
      "Epoch 40000: 1.000000082790371e-10\n",
      "Epoch 50000: 1.000000082790371e-10\n",
      "Epoch 60000: 1.000000082790371e-10\n",
      "Epoch 70000: 1.000000082790371e-10\n",
      "Epoch 80000: 1.000000082790371e-10\n",
      "Epoch 90000: 1.000000082790371e-10\n"
     ]
    },
    {
     "data": {
      "text/plain": [
       "array([[1.00000000e+000, 5.39662454e-027, 1.02552333e-135,\n",
       "        4.34527802e-124, 1.12782687e-038, 4.05705111e-014,\n",
       "        8.38015011e-022, 9.47143096e-057, 2.11206304e-079,\n",
       "        5.04481724e-208],\n",
       "       [4.31759101e-050, 1.00000000e+000, 4.31545995e-077,\n",
       "        7.84443158e-014, 2.11641859e-055, 1.86181198e-044,\n",
       "        2.43975259e-014, 1.74708844e-020, 3.86826462e-084,\n",
       "        1.25966969e-013],\n",
       "       [4.02591399e-059, 1.55232075e-021, 1.00000000e+000,\n",
       "        6.75607714e-012, 7.64468372e-065, 2.73143427e-022,\n",
       "        5.66599356e-051, 4.56854597e-014, 4.33112358e-027,\n",
       "        0.00000000e+000],\n",
       "       [2.40241188e-055, 1.78051140e-014, 5.20274178e-014,\n",
       "        1.00000000e+000, 3.17375662e-051, 2.48271578e-044,\n",
       "        8.27557191e-037, 9.15998463e-032, 2.22340775e-013,\n",
       "        5.45259385e-110],\n",
       "       [6.63101760e-014, 1.72809098e-014, 5.72351596e-126,\n",
       "        2.55703690e-045, 1.00000000e+000, 2.07250340e-036,\n",
       "        1.23895283e-065, 3.75799408e-014, 1.58105392e-102,\n",
       "        1.89571490e-014],\n",
       "       [4.02798592e-016, 1.45280531e-023, 3.02172829e-134,\n",
       "        1.72857595e-170, 7.30708605e-083, 1.00000000e+000,\n",
       "        7.65287717e-064, 5.88082751e-019, 2.22972872e-163,\n",
       "        0.00000000e+000],\n",
       "       [4.18582118e-014, 3.52920796e-016, 3.68056665e-117,\n",
       "        4.38053088e-067, 2.15385308e-073, 9.37780556e-055,\n",
       "        1.00000000e+000, 1.99792063e-100, 2.40461458e-013,\n",
       "        7.33576608e-028],\n",
       "       [2.22604512e-049, 2.58729326e-015, 8.60460280e-085,\n",
       "        1.10134883e-069, 2.95944161e-043, 7.21852361e-014,\n",
       "        8.84677020e-096, 1.00000000e+000, 9.84617880e-142,\n",
       "        0.00000000e+000],\n",
       "       [1.08766515e-032, 4.86101389e-021, 1.61048619e-052,\n",
       "        5.03480788e-013, 2.24962490e-051, 3.91321388e-054,\n",
       "        7.07406939e-014, 4.60397484e-071, 1.00000000e+000,\n",
       "        1.07421362e-012],\n",
       "       [9.34877159e-023, 4.13814994e-017, 2.02099446e-023,\n",
       "        3.23735908e-011, 2.21868744e-020, 2.64254332e-026,\n",
       "        1.66512007e-018, 6.18239763e-024, 1.03381527e-015,\n",
       "        1.00000000e+000]])"
      ]
     },
     "execution_count": 14,
     "metadata": {},
     "output_type": "execute_result"
    }
   ],
   "source": [
    "input_size = 35\n",
    "hidden_size = 10\n",
    "output_size = 10\n",
    "\n",
    "learning_rate = 0.1\n",
    "epochs = 100000\n",
    "\n",
    "nn_C = NeuralNetwork(input_size, hidden_size, output_size, one_hot=True)\n",
    "nn_C.train(x, y, learning_rate, epochs)\n",
    "nn_C.predict(x)"
   ]
  },
  {
   "cell_type": "code",
   "execution_count": 15,
   "id": "5049ece1-4a4a-4ec2-9185-4d2747f250c6",
   "metadata": {},
   "outputs": [
    {
     "name": "stdout",
     "output_type": "stream",
     "text": [
      "[[4.18582118e-014 3.52920796e-016 3.68056665e-117 4.38053088e-067\n",
      "  2.15385308e-073 9.37780556e-055 1.00000000e+000 1.99792063e-100\n",
      "  2.40461458e-013 7.33576608e-028]]\n",
      "digit is: 6\n"
     ]
    },
    {
     "data": {
      "image/png": "[encoded data removed]",
      "text/plain": [
       "<Figure size 200x200 with 1 Axes>"
      ]
     },
     "metadata": {},
     "output_type": "display_data"
    }
   ],
   "source": [
    "digit = 6\n",
    "\n",
    "plt.figure(figsize=(2,2))\n",
    "plt.axis('off')\n",
    "plt.imshow(np.reshape(data_flattened[digit], (7,5)));\n",
    "res = nn_C.predict(data_flattened[digit])\n",
    "print(res)\n",
    "print('digit is:', np.argmax(res))"
   ]
  },
  {
   "cell_type": "code",
   "execution_count": 16,
   "id": "5aedeb91-7d37-4f57-ac7f-b4a32682fdc9",
   "metadata": {},
   "outputs": [],
   "source": [
    "def salt_pepper_noise(img, salt_probability, pepper_probability):\n",
    "    img_copy = np.copy(img)\n",
    "    salt = np.random.rand(img.size) < salt_probability\n",
    "    pepper = np.random.rand(img.size) < pepper_probability\n",
    "    img_copy[salt] = 1\n",
    "    img_copy[pepper] = 0\n",
    "    return img_copy\n",
    "\n",
    "def random_noise(img):\n",
    "    img_copy = np.copy(img)\n",
    "    img_copy = img_copy + np.random.rand(img_copy.size)\n",
    "    return img_copy\n",
    "\n",
    "def gaussian_noise(img, mean, std):\n",
    "    img_copy = np.copy(img)\n",
    "    img_copy = img_copy + np.random.normal(mean, std, img_copy.size)\n",
    "    return img_copy"
   ]
  },
  {
   "cell_type": "code",
   "execution_count": 17,
   "id": "60365859-7eb2-455b-8f30-1205dc58b7d5",
   "metadata": {},
   "outputs": [
    {
     "data": {
      "image/png": "[encoded data removed]",
      "text/plain": [
       "<Figure size 400x300 with 3 Axes>"
      ]
     },
     "metadata": {},
     "output_type": "display_data"
    }
   ],
   "source": [
    "salt_pepper_digit = salt_pepper_noise(data_flattened[digit], 0.05, 0.05)\n",
    "random_digit = random_noise(data_flattened[digit])\n",
    "gauss_digit = gaussian_noise(data_flattened[digit], 0.1, 0.1)\n",
    "\n",
    "noised_data = [salt_pepper_digit, random_digit, gauss_digit]\n",
    "titles = ['S&P', 'Random', 'Gauss']\n",
    "\n",
    "plt.figure(figsize=(4,3))\n",
    "for i, img in enumerate(noised_data):\n",
    "    plt.subplot(1, 3, i+1)\n",
    "    plt.title(titles[i])\n",
    "    plt.axis('off')\n",
    "    plt.imshow(np.reshape(img, (7,5)));"
   ]
  },
  {
   "cell_type": "code",
   "execution_count": 18,
   "id": "99370322-7da3-41f4-be3d-e013e0652a4b",
   "metadata": {},
   "outputs": [
    {
     "data": {
      "text/plain": [
       "6"
      ]
     },
     "execution_count": 18,
     "metadata": {},
     "output_type": "execute_result"
    }
   ],
   "source": [
    "np.argmax(nn_C.predict(random_digit))"
   ]
  },
  {
   "cell_type": "code",
   "execution_count": null,
   "id": "cb378110-c745-4dec-bdc7-849ac4bebbd0",
   "metadata": {},
   "outputs": [],
   "source": []
  }
 ],
 "metadata": {
  "kernelspec": {
   "display_name": "Python 3 (ipykernel)",
   "language": "python",
   "name": "python3"
  },
  "language_info": {
   "codemirror_mode": {
    "name": "ipython",
    "version": 3
   },
   "file_extension": ".py",
   "mimetype": "text/x-python",
   "name": "python",
   "nbconvert_exporter": "python",
   "pygments_lexer": "ipython3",
   "version": "3.12.2"
  }
 },
 "nbformat": 4,
 "nbformat_minor": 5
}
