{
 "cells": [
  {
   "cell_type": "code",
   "execution_count": 1,
   "id": "9a96ed9a-3772-4920-bae0-431d1815a803",
   "metadata": {},
   "outputs": [],
   "source": [
    "import cv2\n",
    "import numpy as np\n",
    "import matplotlib.pyplot as plt\n",
    "import pandas as pd"
   ]
  },
  {
   "cell_type": "markdown",
   "id": "6c4257f7-a776-4d24-9c1e-9a3bf8f2b334",
   "metadata": {},
   "source": [
    "# Exercise 3"
   ]
  },
  {
   "cell_type": "markdown",
   "id": "29ea0883-201e-4a77-8b8b-5945e2c54603",
   "metadata": {},
   "source": [
    "### Question A"
   ]
  },
  {
   "cell_type": "code",
   "execution_count": 2,
   "id": "0bcb7d5a-478c-41be-a31f-87cd6f017bcb",
   "metadata": {},
   "outputs": [],
   "source": [
    "x = np.array([[0, 0],\n",
    "              [0, 1],\n",
    "              [1, 0],\n",
    "              [1, 1]])\n",
    "\n",
    "y = np.array([[0],\n",
    "              [1],\n",
    "              [1],\n",
    "              [0]])"
   ]
  },
  {
   "cell_type": "code",
   "execution_count": 3,
   "id": "cb4bc2b1-bd14-46b3-9eca-7da83fbd264d",
   "metadata": {},
   "outputs": [
    {
     "data": {
      "text/html": [
       "<style type=\"text/css\">\n",
       "</style>\n",
       "<table id=\"T_960f4\">\n",
       "  <thead>\n",
       "    <tr>\n",
       "      <th id=\"T_960f4_level0_col0\" class=\"col_heading level0 col0\" >x1</th>\n",
       "      <th id=\"T_960f4_level0_col1\" class=\"col_heading level0 col1\" >x2</th>\n",
       "      <th id=\"T_960f4_level0_col2\" class=\"col_heading level0 col2\" >y</th>\n",
       "    </tr>\n",
       "  </thead>\n",
       "  <tbody>\n",
       "    <tr>\n",
       "      <td id=\"T_960f4_row0_col0\" class=\"data row0 col0\" >0</td>\n",
       "      <td id=\"T_960f4_row0_col1\" class=\"data row0 col1\" >0</td>\n",
       "      <td id=\"T_960f4_row0_col2\" class=\"data row0 col2\" >0</td>\n",
       "    </tr>\n",
       "    <tr>\n",
       "      <td id=\"T_960f4_row1_col0\" class=\"data row1 col0\" >0</td>\n",
       "      <td id=\"T_960f4_row1_col1\" class=\"data row1 col1\" >1</td>\n",
       "      <td id=\"T_960f4_row1_col2\" class=\"data row1 col2\" >1</td>\n",
       "    </tr>\n",
       "    <tr>\n",
       "      <td id=\"T_960f4_row2_col0\" class=\"data row2 col0\" >1</td>\n",
       "      <td id=\"T_960f4_row2_col1\" class=\"data row2 col1\" >0</td>\n",
       "      <td id=\"T_960f4_row2_col2\" class=\"data row2 col2\" >1</td>\n",
       "    </tr>\n",
       "    <tr>\n",
       "      <td id=\"T_960f4_row3_col0\" class=\"data row3 col0\" >1</td>\n",
       "      <td id=\"T_960f4_row3_col1\" class=\"data row3 col1\" >1</td>\n",
       "      <td id=\"T_960f4_row3_col2\" class=\"data row3 col2\" >0</td>\n",
       "    </tr>\n",
       "  </tbody>\n",
       "</table>\n"
      ],
      "text/plain": [
       "<pandas.io.formats.style.Styler at 0x2538d19e870>"
      ]
     },
     "execution_count": 3,
     "metadata": {},
     "output_type": "execute_result"
    }
   ],
   "source": [
    "df = pd.DataFrame(np.concatenate((x, y), axis=1), columns=('x1', 'x2', 'y'))\n",
    "df.style.hide()"
   ]
  },
  {
   "cell_type": "code",
   "execution_count": 4,
   "id": "8319012a-9df9-46b8-aa65-72fbeb3be14a",
   "metadata": {},
   "outputs": [
    {
     "data": {
      "image/png": "[encoded data removed]",
      "text/plain": [
       "<Figure size 200x200 with 1 Axes>"
      ]
     },
     "metadata": {},
     "output_type": "display_data"
    }
   ],
   "source": [
    "plt.figure(figsize=(2,2))\n",
    "\n",
    "plt.plot(*x[0], 'o', color='blue')\n",
    "plt.plot(*x[1], 'o', color='red')\n",
    "plt.plot(*x[2], 'o', color='red')\n",
    "plt.plot(*x[3], 'o', color='blue')\n",
    "plt.grid()\n",
    "\n",
    "plt.show()"
   ]
  },
  {
   "cell_type": "code",
   "execution_count": 5,
   "id": "762a2d09-40c3-4b2f-9e30-fa817daf29ff",
   "metadata": {
    "editable": true,
    "slideshow": {
     "slide_type": ""
    },
    "tags": []
   },
   "outputs": [],
   "source": [
    "class NeuralNetwork:\n",
    "    def __init__(self, input_size, hidden_size, output_size, one_hot=False):\n",
    "        # Initialize number of nodes of input, hidden, and output layer\n",
    "        self.input_size = input_size\n",
    "        self.hidden_size = hidden_size\n",
    "        self.output_size = output_size\n",
    "\n",
    "        # Use of one_hot encoding\n",
    "        self.one_hot = one_hot\n",
    "\n",
    "        # Initialize weights (w) and biases (b)\n",
    "        # input -> hidden\n",
    "        self.w1 = np.random.rand(self.input_size, self.hidden_size) # 35*10\n",
    "        self.b1 = np.zeros((1, self.hidden_size)) # 1*10\n",
    "\n",
    "        # hidden -> output\n",
    "        self.w2 = np.random.rand(self.hidden_size, self.output_size) # 10*1\n",
    "        self.b2 = np.zeros((1, self.output_size)) # 1*1\n",
    "\n",
    "    def sigmoid(self, x, deriv=False):\n",
    "        \"\"\"Sigmoid activation function\"\"\"\n",
    "        if deriv:\n",
    "            return self.sigmoid(x) * (1 - self.sigmoid(x))\n",
    "        return 1 / (1 + np.exp(-x))\n",
    "\n",
    "    def reLU(self, x):\n",
    "        \"\"\"reLU activation function\"\"\"\n",
    "        return np.maximum(0, x)\n",
    "\n",
    "    def one_hot_encoding(self, y):\n",
    "        \"\"\"Encode digit to one-hot (used in error calculation of backpropagation)\"\"\"\n",
    "        y = y.reshape(-1, 10)\n",
    "        encoded_y = np.zeros((y.size, y.max() + 1))\n",
    "        encoded_y[np.arange(y.size), y.flatten()] = 1\n",
    "        encoded_y = encoded_y.T\n",
    "        return encoded_y\n",
    "\n",
    "    def feedforward(self, x):\n",
    "        \"\"\"Feedforward\"\"\"\n",
    "        # input -> hidden\n",
    "        self.z1 = np.dot(x, self.w1) + self.b1 # 10*35 @ 35*10 = 10*10\n",
    "        self.a1 = self.sigmoid(self.z1)\n",
    "\n",
    "        # hidden -> output\n",
    "        self.z2 = np.dot(self.a1, self.w2) + self.b2 # 10*10 @ 10*1 = 10*1\n",
    "        self.a2 = self.sigmoid(self.z2) # 10*1\n",
    "\n",
    "        return self.a2\n",
    "\n",
    "    def backpropagation(self, x, y, learning_rate):\n",
    "        \"\"\"Backpropagation\"\"\"        \n",
    "        self.m = y.size\n",
    "        \n",
    "        self.d_z2 = self.a2 - y # 10*1\n",
    "        self.d_w2 = np.dot(self.a1.T, self.d_z2) / self.m # 10*10 @ 10*1 = 10*1\n",
    "        self.d_b2 = np.sum(self.d_z2) / self.m # 1*1\n",
    "        \n",
    "        self.d_z1 = np.dot(self.d_z2, self.w2.T) * self.sigmoid(self.z1, deriv=True) # 10*1 @ 1*10\n",
    "        self.d_w1 = np.dot(x.T, self.d_z1) / self.m\n",
    "        self.d_b1 = np.sum(self.d_z1) / self.m\n",
    "\n",
    "        self.w1 -= self.d_w1 * learning_rate\n",
    "        self.b1 -= self.d_b1 * learning_rate\n",
    "        self.w2 -= self.d_w2 * learning_rate\n",
    "        self.b2 -= self.d_b2 * learning_rate\n",
    "\n",
    "    def train(self, x, y, learning_rate, epochs):\n",
    "        \"\"\"Optimize weight and bias parameters\"\"\" \n",
    "        if self.one_hot:\n",
    "            y = self.one_hot_encoding(y)\n",
    "        \n",
    "        for epoch in range(epochs):\n",
    "            self.feedforward(x)\n",
    "            self.backpropagation(x, y, learning_rate)\n",
    "\n",
    "            if not epoch % (epochs / 10):\n",
    "                loss = np.mean(np.square(y - self.a2))\n",
    "                print(f'Epoch {epoch}: {loss}')\n",
    "\n",
    "    def predict(self, x):\n",
    "        \"\"\"Get feedforward result with current parameters\"\"\"\n",
    "        return self.feedforward(x)"
   ]
  },
  {
   "cell_type": "code",
   "execution_count": 6,
   "id": "35ae5f27-7fdf-4fd3-9632-1fccc643aba4",
   "metadata": {},
   "outputs": [
    {
     "name": "stdout",
     "output_type": "stream",
     "text": [
      "Epoch 0: 0.2508653695349208\n",
      "Epoch 1000: 0.2500009035162293\n",
      "Epoch 2000: 0.25000000575503256\n",
      "Epoch 3000: 0.25000000210353174\n",
      "Epoch 4000: 0.2500000019475553\n",
      "Epoch 5000: 0.2500000018167567\n",
      "Epoch 6000: 0.2500000016962981\n",
      "Epoch 7000: 0.2500000015851761\n",
      "Epoch 8000: 0.2500000014825534\n",
      "Epoch 9000: 0.25000000138767947\n"
     ]
    },
    {
     "data": {
      "text/plain": [
       "array([[0.50002349],\n",
       "       [0.49995475],\n",
       "       [0.50004528],\n",
       "       [0.49997655]])"
      ]
     },
     "execution_count": 6,
     "metadata": {},
     "output_type": "execute_result"
    }
   ],
   "source": [
    "learning_rate = 0.1\n",
    "epochs = 10000\n",
    "nn_A = NeuralNetwork(2, 2, 1)\n",
    "nn_A.train(x, y, learning_rate, epochs)\n",
    "nn_A.predict(x)"
   ]
  },
  {
   "cell_type": "markdown",
   "id": "321fae33-69ef-44d3-a5cd-bbd33a869a7a",
   "metadata": {},
   "source": [
    "### Question B"
   ]
  },
  {
   "cell_type": "markdown",
   "id": "328a2d07-bbf6-429f-b7aa-75748af34697",
   "metadata": {},
   "source": [
    "Load raw data"
   ]
  },
  {
   "cell_type": "code",
   "execution_count": 7,
   "id": "130cf23d-6d63-4f48-bb5f-d0417b3b5e6e",
   "metadata": {},
   "outputs": [
    {
     "data": {
      "image/png": "[encoded data removed]",
      "text/plain": [
       "<Figure size 640x480 with 1 Axes>"
      ]
     },
     "metadata": {},
     "output_type": "display_data"
    }
   ],
   "source": [
    "data = np.loadtxt(\"TP3-ej3-digitos.txt\", dtype=np.uint8) \n",
    "plt.imshow(data);"
   ]
  },
  {
   "cell_type": "markdown",
   "id": "a38f1f86-83e0-4add-9d64-3e4a9843dbd4",
   "metadata": {},
   "source": [
    "Flatten data"
   ]
  },
  {
   "cell_type": "code",
   "execution_count": 8,
   "id": "bf7d500a-1154-4311-9a6e-8d4567a464de",
   "metadata": {},
   "outputs": [
    {
     "name": "stdout",
     "output_type": "stream",
     "text": [
      "(10, 35)\n"
     ]
    },
    {
     "data": {
      "text/plain": [
       "array([[0, 1, 1, 1, 0, 1, 0, 0, 0, 1, 1, 0, 0, 1, 1, 1, 0, 1, 0, 1, 1, 1,\n",
       "        0, 0, 1, 1, 0, 0, 0, 1, 0, 1, 1, 1, 0],\n",
       "       [0, 0, 1, 0, 0, 0, 1, 1, 0, 0, 0, 0, 1, 0, 0, 0, 0, 1, 0, 0, 0, 0,\n",
       "        1, 0, 0, 0, 0, 1, 0, 0, 0, 1, 1, 1, 0],\n",
       "       [0, 1, 1, 1, 0, 1, 0, 0, 0, 1, 0, 0, 0, 0, 1, 0, 0, 0, 1, 0, 0, 0,\n",
       "        1, 0, 0, 0, 1, 0, 0, 0, 1, 1, 1, 1, 1],\n",
       "       [0, 1, 1, 1, 0, 1, 0, 0, 0, 1, 0, 0, 0, 0, 1, 0, 0, 1, 1, 0, 0, 0,\n",
       "        0, 0, 1, 1, 0, 0, 0, 1, 0, 1, 1, 1, 0],\n",
       "       [0, 0, 0, 1, 0, 0, 0, 1, 1, 0, 0, 1, 0, 1, 0, 1, 0, 0, 1, 0, 1, 1,\n",
       "        1, 1, 1, 0, 0, 0, 1, 0, 0, 0, 0, 1, 0],\n",
       "       [1, 1, 1, 1, 1, 1, 0, 0, 0, 0, 1, 1, 1, 1, 0, 0, 0, 0, 0, 1, 0, 0,\n",
       "        0, 0, 1, 1, 0, 0, 0, 1, 0, 1, 1, 1, 0],\n",
       "       [0, 0, 1, 1, 0, 0, 1, 0, 0, 0, 1, 0, 0, 0, 0, 1, 1, 1, 1, 0, 1, 0,\n",
       "        0, 0, 1, 1, 0, 0, 0, 1, 0, 1, 1, 1, 0],\n",
       "       [1, 1, 1, 1, 1, 0, 0, 0, 0, 1, 0, 0, 0, 1, 0, 0, 0, 1, 0, 0, 0, 1,\n",
       "        0, 0, 0, 0, 1, 0, 0, 0, 0, 1, 0, 0, 0],\n",
       "       [0, 1, 1, 1, 0, 1, 0, 0, 0, 1, 1, 0, 0, 0, 1, 0, 1, 1, 1, 0, 1, 0,\n",
       "        0, 0, 1, 1, 0, 0, 0, 1, 0, 1, 1, 1, 0],\n",
       "       [0, 1, 1, 1, 0, 1, 0, 0, 0, 1, 1, 0, 0, 0, 1, 0, 1, 1, 1, 1, 0, 0,\n",
       "        0, 0, 1, 0, 0, 0, 1, 0, 0, 1, 1, 0, 0]], dtype=uint8)"
      ]
     },
     "execution_count": 8,
     "metadata": {},
     "output_type": "execute_result"
    }
   ],
   "source": [
    "data_flattened = data.flatten()\n",
    "data_flattened = np.reshape(data_flattened, (10, 35))\n",
    "\n",
    "print(data_flattened.shape)\n",
    "data_flattened"
   ]
  },
  {
   "cell_type": "markdown",
   "id": "8c3c2454-f849-4ffb-859a-c3f9fad87283",
   "metadata": {},
   "source": [
    "Initialize x input (flattened digit) and y output (result of whether digit is pair)"
   ]
  },
  {
   "cell_type": "code",
   "execution_count": 9,
   "id": "0b11c14d-c55b-403d-b5ed-fb0294878a64",
   "metadata": {},
   "outputs": [
    {
     "data": {
      "image/png": "[encoded data removed]",
      "text/plain": [
       "<Figure size 1000x300 with 10 Axes>"
      ]
     },
     "metadata": {},
     "output_type": "display_data"
    }
   ],
   "source": [
    "x = data_flattened\n",
    "y = np.array([1, 0, 1, 0, 1, 0, 1, 0, 1, 0]).reshape(-1, 1)\n",
    "\n",
    "plt.figure(figsize=(10, 3))\n",
    "for i, img in enumerate(data_flattened):\n",
    "    plt.subplot(1, 10, i+1)\n",
    "    plt.title('Label:' + str(y[i]))\n",
    "    plt.axis('off')\n",
    "    plt.imshow(np.reshape(img, (7,5)))"
   ]
  },
  {
   "cell_type": "code",
   "execution_count": 10,
   "id": "8dcdad80-efe7-492b-b705-b9b8b5619b1d",
   "metadata": {},
   "outputs": [
    {
     "name": "stdout",
     "output_type": "stream",
     "text": [
      "Epoch 0: 0.499999999999509\n",
      "Epoch 1000: 0.00027261695355568346\n",
      "Epoch 2000: 0.00012631391876908378\n",
      "Epoch 3000: 7.485289972168121e-05\n",
      "Epoch 4000: 4.902254326852023e-05\n",
      "Epoch 5000: 3.421884960764456e-05\n",
      "Epoch 6000: 2.500664522963285e-05\n",
      "Epoch 7000: 1.892252575504261e-05\n",
      "Epoch 8000: 1.4715793885393357e-05\n",
      "Epoch 9000: 1.1698596522715447e-05\n"
     ]
    },
    {
     "data": {
      "text/plain": [
       "array([[9.96164860e-01],\n",
       "       [9.90374843e-06],\n",
       "       [9.99944692e-01],\n",
       "       [4.28945467e-03],\n",
       "       [9.99999165e-01],\n",
       "       [4.12956082e-03],\n",
       "       [9.99999997e-01],\n",
       "       [1.59256808e-03],\n",
       "       [9.93872586e-01],\n",
       "       [2.10744689e-03]])"
      ]
     },
     "execution_count": 10,
     "metadata": {},
     "output_type": "execute_result"
    }
   ],
   "source": [
    "input_size = 35\n",
    "hidden_size = 10\n",
    "output_size = 1\n",
    "\n",
    "learning_rate = 0.1\n",
    "epochs = 10000\n",
    "\n",
    "nn_B = NeuralNetwork(input_size, hidden_size, output_size)\n",
    "nn_B.train(x, y, learning_rate, epochs)\n",
    "nn_B.predict(x)"
   ]
  },
  {
   "cell_type": "code",
   "execution_count": 11,
   "id": "cd28f076-a29c-4723-bffb-065868873cb8",
   "metadata": {},
   "outputs": [
    {
     "name": "stdout",
     "output_type": "stream",
     "text": [
      "digit is even: [[0.00412956]]\n"
     ]
    },
    {
     "data": {
      "image/png": "[encoded data removed]",
      "text/plain": [
       "<Figure size 200x200 with 1 Axes>"
      ]
     },
     "metadata": {},
     "output_type": "display_data"
    }
   ],
   "source": [
    "digit = 5\n",
    "\n",
    "plt.figure(figsize=(2,2))\n",
    "plt.imshow(np.reshape(data_flattened[digit], (7,5)));\n",
    "res = nn_B.predict(data_flattened[digit])\n",
    "print('digit is even:', res)"
   ]
  },
  {
   "cell_type": "code",
   "execution_count": 12,
   "id": "a6a4495a-0def-418c-bec9-aafab48919dd",
   "metadata": {},
   "outputs": [
    {
     "name": "stdout",
     "output_type": "stream",
     "text": [
      "The digit is even: [[False]]\n"
     ]
    }
   ],
   "source": [
    "threshold = 0.5\n",
    "res = nn_B.predict(data_flattened[digit])\n",
    "is_even = res > threshold\n",
    "print(f'The digit is even: {is_even}')"
   ]
  },
  {
   "cell_type": "markdown",
   "id": "89e2353a-43b3-448a-8e48-1eb8ac16fcd8",
   "metadata": {},
   "source": [
    "### Exercise C"
   ]
  },
  {
   "cell_type": "markdown",
   "id": "46fab504-d95e-4ac1-be7b-2c730ff23635",
   "metadata": {},
   "source": [
    "Initialize data\n",
    "- x: 10*35 (10 digits * 35 pixels each)\n",
    "- y: 10*1 (can be classified to 10 possible digits)"
   ]
  },
  {
   "cell_type": "code",
   "execution_count": 13,
   "id": "d0e08481-ea25-4ca0-99ce-3b300b5e87a3",
   "metadata": {},
   "outputs": [
    {
     "data": {
      "image/png": "[encoded data removed]",
      "text/plain": [
       "<Figure size 1000x300 with 10 Axes>"
      ]
     },
     "metadata": {},
     "output_type": "display_data"
    }
   ],
   "source": [
    "x = data_flattened\n",
    "y = np.arange(10).reshape(-1, 1)\n",
    "\n",
    "plt.figure(figsize=(10, 3))\n",
    "for i, img in enumerate(data_flattened):\n",
    "    plt.subplot(1, 10, i+1)\n",
    "    plt.title('Label:' + str(y[i]))\n",
    "    plt.axis('off')\n",
    "    plt.imshow(np.reshape(img, (7,5)))"
   ]
  },
  {
   "cell_type": "code",
   "execution_count": 14,
   "id": "08be8432-e487-4625-bd43-869a1662cce5",
   "metadata": {},
   "outputs": [
    {
     "name": "stdout",
     "output_type": "stream",
     "text": [
      "Epoch 0: 0.899999999867704\n",
      "Epoch 10000: 0.002345218225774676\n",
      "Epoch 20000: 0.0005677121316680207\n",
      "Epoch 30000: 0.00022553180597156169\n",
      "Epoch 40000: 0.00011496485379220087\n",
      "Epoch 50000: 6.787028982053245e-05\n",
      "Epoch 60000: 4.408977391151032e-05\n",
      "Epoch 70000: 3.062268104231519e-05\n",
      "Epoch 80000: 2.2342345576631514e-05\n",
      "Epoch 90000: 1.6926792623524673e-05\n"
     ]
    },
    {
     "data": {
      "text/plain": [
       "array([[9.93587986e-01, 2.99440933e-09, 7.91987068e-06, 1.34568943e-11,\n",
       "        7.56339902e-04, 2.01916953e-06, 1.81657658e-05, 6.28436852e-07,\n",
       "        6.65987714e-04, 1.26530805e-03],\n",
       "       [7.37815418e-05, 9.96148009e-01, 3.13377801e-03, 8.18795301e-04,\n",
       "        1.56484073e-03, 3.47847039e-03, 5.38335196e-04, 9.34476026e-05,\n",
       "        4.69001868e-10, 2.56154131e-08],\n",
       "       [9.91555209e-07, 2.07554023e-03, 9.94307930e-01, 2.56309473e-04,\n",
       "        6.49792981e-05, 3.08093965e-06, 2.95210079e-05, 7.13131277e-06,\n",
       "        7.48999541e-11, 9.79183237e-05],\n",
       "       [1.63355854e-06, 1.01830092e-05, 1.19798604e-04, 9.82363517e-01,\n",
       "        6.59086250e-06, 4.77440337e-04, 1.04002492e-03, 1.15395504e-03,\n",
       "        3.03196547e-03, 2.57126264e-04],\n",
       "       [3.73839388e-03, 3.44504524e-04, 5.63592905e-04, 6.55688726e-07,\n",
       "        9.96756856e-01, 1.19332444e-05, 2.13429584e-03, 2.03084150e-06,\n",
       "        1.76552990e-08, 1.97706015e-08],\n",
       "       [1.05586704e-05, 1.63268439e-04, 5.86281543e-06, 2.48537659e-03,\n",
       "        4.80754179e-06, 9.91696569e-01, 1.17708509e-08, 2.36538350e-06,\n",
       "        5.73076761e-05, 2.80195800e-03],\n",
       "       [2.56344119e-04, 8.02400096e-06, 1.03175045e-04, 3.42270044e-03,\n",
       "        7.29930600e-04, 5.60834531e-08, 9.94322323e-01, 5.10750638e-04,\n",
       "        6.42283538e-03, 5.86688411e-09],\n",
       "       [4.70387251e-05, 1.64116129e-05, 7.50647343e-04, 2.80570088e-03,\n",
       "        1.84435298e-05, 6.50627242e-05, 9.37108175e-04, 9.97430274e-01,\n",
       "        1.00603415e-03, 3.55162180e-06],\n",
       "       [9.94033105e-04, 4.29838134e-09, 1.49122434e-05, 5.31213975e-03,\n",
       "        9.42509516e-07, 1.75686139e-04, 1.49317284e-03, 9.91777734e-05,\n",
       "        9.80988690e-01, 3.69550828e-03],\n",
       "       [3.35795029e-03, 1.26084757e-08, 2.36148315e-03, 2.09948739e-03,\n",
       "        1.14028907e-06, 6.07224362e-03, 4.34197858e-07, 5.85464333e-06,\n",
       "        1.07015255e-02, 9.90906750e-01]])"
      ]
     },
     "execution_count": 14,
     "metadata": {},
     "output_type": "execute_result"
    }
   ],
   "source": [
    "input_size = 35\n",
    "hidden_size = 10\n",
    "output_size = 10\n",
    "\n",
    "learning_rate = 0.1\n",
    "epochs = 100000\n",
    "\n",
    "nn_C = NeuralNetwork(input_size, hidden_size, output_size, one_hot=True)\n",
    "nn_C.train(x, y, learning_rate, epochs)\n",
    "nn_C.predict(x)"
   ]
  },
  {
   "cell_type": "code",
   "execution_count": 15,
   "id": "5049ece1-4a4a-4ec2-9185-4d2747f250c6",
   "metadata": {},
   "outputs": [
    {
     "name": "stdout",
     "output_type": "stream",
     "text": [
      "[[1.05586704e-05 1.63268439e-04 5.86281543e-06 2.48537659e-03\n",
      "  4.80754179e-06 9.91696569e-01 1.17708509e-08 2.36538350e-06\n",
      "  5.73076761e-05 2.80195800e-03]]\n",
      "digit is: 5\n"
     ]
    },
    {
     "data": {
      "image/png": "[encoded data removed]",
      "text/plain": [
       "<Figure size 200x200 with 1 Axes>"
      ]
     },
     "metadata": {},
     "output_type": "display_data"
    }
   ],
   "source": [
    "digit = 5\n",
    "\n",
    "plt.figure(figsize=(2,2))\n",
    "plt.axis('off')\n",
    "plt.imshow(np.reshape(data_flattened[digit], (7,5)));\n",
    "res = nn_C.predict(data_flattened[digit])\n",
    "print(res)\n",
    "print('digit is:', np.argmax(res))"
   ]
  },
  {
   "cell_type": "code",
   "execution_count": 16,
   "id": "5aedeb91-7d37-4f57-ac7f-b4a32682fdc9",
   "metadata": {},
   "outputs": [],
   "source": [
    "def salt_pepper_noise(img, salt_probability, pepper_probability):\n",
    "    img_copy = np.copy(img)\n",
    "    salt = np.random.rand(img.size) < salt_probability\n",
    "    pepper = np.random.rand(img.size) < pepper_probability\n",
    "    img_copy[salt] = 1\n",
    "    img_copy[pepper] = 0\n",
    "    return img_copy\n",
    "\n",
    "def random_noise(img):\n",
    "    img_copy = np.copy(img)\n",
    "    img_copy = img_copy + np.random.rand(img_copy.size)\n",
    "    return img_copy\n",
    "\n",
    "def gaussian_noise(img, mean, std):\n",
    "    img_copy = np.copy(img)\n",
    "    img_copy = img_copy + np.random.normal(mean, std, img_copy.size)\n",
    "    return img_copy"
   ]
  },
  {
   "cell_type": "code",
   "execution_count": 17,
   "id": "60365859-7eb2-455b-8f30-1205dc58b7d5",
   "metadata": {},
   "outputs": [
    {
     "data": {
      "image/png": "[encoded data removed]",
      "text/plain": [
       "<Figure size 400x300 with 3 Axes>"
      ]
     },
     "metadata": {},
     "output_type": "display_data"
    }
   ],
   "source": [
    "salt_pepper_digit = salt_pepper_noise(data_flattened[digit], 0.05, 0.05)\n",
    "random_digit = random_noise(data_flattened[digit])\n",
    "gauss_digit = gaussian_noise(data_flattened[digit], 0.1, 0.1)\n",
    "\n",
    "noised_data = [salt_pepper_digit, random_digit, gauss_digit]\n",
    "titles = ['S&P', 'Random', 'Gauss']\n",
    "\n",
    "plt.figure(figsize=(4,3))\n",
    "for i, img in enumerate(noised_data):\n",
    "    plt.subplot(1, 3, i+1)\n",
    "    plt.title(titles[i])\n",
    "    plt.axis('off')\n",
    "    plt.imshow(np.reshape(img, (7,5)));"
   ]
  },
  {
   "cell_type": "code",
   "execution_count": 18,
   "id": "99370322-7da3-41f4-be3d-e013e0652a4b",
   "metadata": {},
   "outputs": [
    {
     "data": {
      "text/plain": [
       "5"
      ]
     },
     "execution_count": 18,
     "metadata": {},
     "output_type": "execute_result"
    }
   ],
   "source": [
    "np.argmax(nn_C.predict(random_digit))"
   ]
  },
  {
   "cell_type": "code",
   "execution_count": null,
   "id": "cb378110-c745-4dec-bdc7-849ac4bebbd0",
   "metadata": {},
   "outputs": [],
   "source": []
  }
 ],
 "metadata": {
  "kernelspec": {
   "display_name": "Python 3 (ipykernel)",
   "language": "python",
   "name": "python3"
  },
  "language_info": {
   "codemirror_mode": {
    "name": "ipython",
    "version": 3
   },
   "file_extension": ".py",
   "mimetype": "text/x-python",
   "name": "python",
   "nbconvert_exporter": "python",
   "pygments_lexer": "ipython3",
   "version": "3.12.2"
  }
 },
 "nbformat": 4,
 "nbformat_minor": 5
}
