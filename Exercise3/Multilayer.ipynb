{
 "cells": [
  {
   "cell_type": "code",
   "execution_count": 23,
   "id": "9a96ed9a-3772-4920-bae0-431d1815a803",
   "metadata": {},
   "outputs": [],
   "source": [
    "import cv2\n",
    "import numpy as np\n",
    "import matplotlib.pyplot as plt\n",
    "import pandas as pd"
   ]
  },
  {
   "cell_type": "markdown",
   "id": "6c4257f7-a776-4d24-9c1e-9a3bf8f2b334",
   "metadata": {},
   "source": [
    "# Exercise 3"
   ]
  },
  {
   "cell_type": "markdown",
   "id": "29ea0883-201e-4a77-8b8b-5945e2c54603",
   "metadata": {},
   "source": [
    "### Question A"
   ]
  },
  {
   "cell_type": "code",
   "execution_count": 24,
   "id": "0bcb7d5a-478c-41be-a31f-87cd6f017bcb",
   "metadata": {},
   "outputs": [],
   "source": [
    "x = np.array([[0, 0],\n",
    "              [0, 1],\n",
    "              [1, 0],\n",
    "              [1, 1]])\n",
    "\n",
    "y = np.array([[0],\n",
    "              [1],\n",
    "              [1],\n",
    "              [0]])"
   ]
  },
  {
   "cell_type": "code",
   "execution_count": 25,
   "id": "cb4bc2b1-bd14-46b3-9eca-7da83fbd264d",
   "metadata": {},
   "outputs": [
    {
     "data": {
      "text/html": [
       "<style type=\"text/css\">\n",
       "</style>\n",
       "<table id=\"T_66a81\">\n",
       "  <thead>\n",
       "    <tr>\n",
       "      <th id=\"T_66a81_level0_col0\" class=\"col_heading level0 col0\" >x1</th>\n",
       "      <th id=\"T_66a81_level0_col1\" class=\"col_heading level0 col1\" >x2</th>\n",
       "      <th id=\"T_66a81_level0_col2\" class=\"col_heading level0 col2\" >y</th>\n",
       "    </tr>\n",
       "  </thead>\n",
       "  <tbody>\n",
       "    <tr>\n",
       "      <td id=\"T_66a81_row0_col0\" class=\"data row0 col0\" >0</td>\n",
       "      <td id=\"T_66a81_row0_col1\" class=\"data row0 col1\" >0</td>\n",
       "      <td id=\"T_66a81_row0_col2\" class=\"data row0 col2\" >0</td>\n",
       "    </tr>\n",
       "    <tr>\n",
       "      <td id=\"T_66a81_row1_col0\" class=\"data row1 col0\" >0</td>\n",
       "      <td id=\"T_66a81_row1_col1\" class=\"data row1 col1\" >1</td>\n",
       "      <td id=\"T_66a81_row1_col2\" class=\"data row1 col2\" >1</td>\n",
       "    </tr>\n",
       "    <tr>\n",
       "      <td id=\"T_66a81_row2_col0\" class=\"data row2 col0\" >1</td>\n",
       "      <td id=\"T_66a81_row2_col1\" class=\"data row2 col1\" >0</td>\n",
       "      <td id=\"T_66a81_row2_col2\" class=\"data row2 col2\" >1</td>\n",
       "    </tr>\n",
       "    <tr>\n",
       "      <td id=\"T_66a81_row3_col0\" class=\"data row3 col0\" >1</td>\n",
       "      <td id=\"T_66a81_row3_col1\" class=\"data row3 col1\" >1</td>\n",
       "      <td id=\"T_66a81_row3_col2\" class=\"data row3 col2\" >0</td>\n",
       "    </tr>\n",
       "  </tbody>\n",
       "</table>\n"
      ],
      "text/plain": [
       "<pandas.io.formats.style.Styler at 0x76ced43487c0>"
      ]
     },
     "execution_count": 25,
     "metadata": {},
     "output_type": "execute_result"
    }
   ],
   "source": [
    "df = pd.DataFrame(np.concatenate((x, y), axis=1), columns=('x1', 'x2', 'y'))\n",
    "df.style.hide()"
   ]
  },
  {
   "cell_type": "code",
   "execution_count": 26,
   "id": "8319012a-9df9-46b8-aa65-72fbeb3be14a",
   "metadata": {},
   "outputs": [
    {
     "data": {
      "image/png": "[encoded data removed]",
      "text/plain": [
       "<Figure size 200x200 with 1 Axes>"
      ]
     },
     "metadata": {},
     "output_type": "display_data"
    }
   ],
   "source": [
    "plt.figure(figsize=(2,2))\n",
    "\n",
    "plt.plot(*x[0], 'o', color='blue')\n",
    "plt.plot(*x[1], 'o', color='red')\n",
    "plt.plot(*x[2], 'o', color='red')\n",
    "plt.plot(*x[3], 'o', color='blue')\n",
    "plt.grid()\n",
    "\n",
    "plt.show()"
   ]
  },
  {
   "cell_type": "code",
   "execution_count": 27,
   "id": "762a2d09-40c3-4b2f-9e30-fa817daf29ff",
   "metadata": {
    "editable": true,
    "slideshow": {
     "slide_type": ""
    },
    "tags": []
   },
   "outputs": [],
   "source": [
    "class NeuralNetwork:\n",
    "    def __init__(self, input_size, hidden_size, output_size, one_hot=False):\n",
    "        # Initialize number of nodes of input, hidden, and output layer\n",
    "        self.input_size = input_size\n",
    "        self.hidden_size = hidden_size\n",
    "        self.output_size = output_size\n",
    "\n",
    "        # Use of one_hot encoding\n",
    "        self.one_hot = one_hot\n",
    "\n",
    "        # Initialize weights (w) and biases (b)\n",
    "        # input -> hidden\n",
    "        self.w1 = np.random.rand(self.input_size, self.hidden_size) # 35*10\n",
    "        self.b1 = np.zeros((1, self.hidden_size)) # 1*10\n",
    "\n",
    "        # hidden -> output\n",
    "        self.w2 = np.random.rand(self.hidden_size, self.output_size) # 10*1\n",
    "        self.b2 = np.zeros((1, self.output_size)) # 1*1\n",
    "\n",
    "    def sigmoid(self, x, deriv=False):\n",
    "        \"\"\"Sigmoid activation function\"\"\"\n",
    "        if deriv:\n",
    "            return self.sigmoid(x) * (1 - self.sigmoid(x))\n",
    "        return 1 / (1 + np.exp(-x))\n",
    "\n",
    "    def reLU(self, x):\n",
    "        \"\"\"reLU activation function\"\"\"\n",
    "        return np.maximum(0, x)\n",
    "\n",
    "    def one_hot_encoding(self, y):\n",
    "        \"\"\"Encode digit to one-hot (used in error calculation of backpropagation)\"\"\"\n",
    "        y = y.reshape(-1, 10)\n",
    "        encoded_y = np.zeros((y.size, y.max() + 1))\n",
    "        encoded_y[np.arange(y.size), y.flatten()] = 1\n",
    "        encoded_y = encoded_y.T\n",
    "        return encoded_y\n",
    "\n",
    "    def feedforward(self, x):\n",
    "        \"\"\"Feedforward\"\"\"\n",
    "        # input -> hidden\n",
    "        self.z1 = np.dot(x, self.w1) + self.b1 # 10*35 @ 35*10 = 10*10\n",
    "        self.a1 = self.sigmoid(self.z1)\n",
    "\n",
    "        # hidden -> output\n",
    "        self.z2 = np.dot(self.a1, self.w2) + self.b2 # 10*10 @ 10*1 = 10*1\n",
    "        self.a2 = self.sigmoid(self.z2) # 10*1\n",
    "\n",
    "        return self.a2\n",
    "\n",
    "    def backpropagation(self, x, y, learning_rate):\n",
    "        \"\"\"Backpropagation\"\"\"        \n",
    "        self.m = y.size\n",
    "        \n",
    "        self.d_z2 = self.a2 - y # 10*1\n",
    "        self.d_w2 = np.dot(self.a1.T, self.d_z2) / self.m # 10*10 @ 10*1 = 10*1\n",
    "        self.d_b2 = np.sum(self.d_z2) / self.m # 1*1\n",
    "        \n",
    "        self.d_z1 = np.dot(self.d_z2, self.w2.T) * self.sigmoid(self.z1, deriv=True) # 10*1 @ 1*10\n",
    "        self.d_w1 = np.dot(x.T, self.d_z1) / self.m\n",
    "        self.d_b1 = np.sum(self.d_z1) / self.m\n",
    "\n",
    "        self.w1 -= self.d_w1 * learning_rate\n",
    "        self.b1 -= self.d_b1 * learning_rate\n",
    "        self.w2 -= self.d_w2 * learning_rate\n",
    "        self.b2 -= self.d_b2 * learning_rate\n",
    "\n",
    "    def train(self, x, y, learning_rate, epochs):\n",
    "        \"\"\"Optimize weight and bias parameters\"\"\" \n",
    "        if self.one_hot:\n",
    "            y = self.one_hot_encoding(y)\n",
    "        \n",
    "        for epoch in range(epochs):\n",
    "            self.feedforward(x)\n",
    "            self.backpropagation(x, y, learning_rate)\n",
    "\n",
    "            if not epoch % (epochs / 10):\n",
    "                loss = np.mean(np.square(y - self.a2))\n",
    "                print(f'Epoch {epoch}: {loss}')\n",
    "\n",
    "    def predict(self, x):\n",
    "        \"\"\"Get feedforward result with current parameters\"\"\"\n",
    "        return self.feedforward(x)"
   ]
  },
  {
   "cell_type": "code",
   "execution_count": 29,
   "id": "35ae5f27-7fdf-4fd3-9632-1fccc643aba4",
   "metadata": {},
   "outputs": [
    {
     "name": "stdout",
     "output_type": "stream",
     "text": [
      "Epoch 0: 0.28239561546814484\n",
      "Epoch 1000: 0.2367521529520285\n",
      "Epoch 2000: 0.18492295934126235\n",
      "Epoch 3000: 0.08550570841104331\n",
      "Epoch 4000: 0.017027514032010138\n",
      "Epoch 5000: 0.004875636550109115\n",
      "Epoch 6000: 0.0020711364099320847\n",
      "Epoch 7000: 0.0011001579403774136\n",
      "Epoch 8000: 0.0006692113923838893\n",
      "Epoch 9000: 0.00044517456880481163\n"
     ]
    },
    {
     "data": {
      "text/plain": [
       "array([[0.01899978],\n",
       "       [0.9837789 ],\n",
       "       [0.98377873],\n",
       "       [0.01934879]])"
      ]
     },
     "execution_count": 29,
     "metadata": {},
     "output_type": "execute_result"
    }
   ],
   "source": [
    "learning_rate = 0.1\n",
    "epochs = 10000\n",
    "nn_A = NeuralNetwork(2, 2, 1)\n",
    "nn_A.train(x, y, learning_rate, epochs)\n",
    "nn_A.predict(x)"
   ]
  },
  {
   "cell_type": "markdown",
   "id": "321fae33-69ef-44d3-a5cd-bbd33a869a7a",
   "metadata": {},
   "source": [
    "### Question B"
   ]
  },
  {
   "cell_type": "markdown",
   "id": "328a2d07-bbf6-429f-b7aa-75748af34697",
   "metadata": {},
   "source": [
    "Load raw data"
   ]
  },
  {
   "cell_type": "code",
   "execution_count": 30,
   "id": "130cf23d-6d63-4f48-bb5f-d0417b3b5e6e",
   "metadata": {},
   "outputs": [
    {
     "data": {
      "image/png": "[encoded data removed]",
      "text/plain": [
       "<Figure size 640x480 with 1 Axes>"
      ]
     },
     "metadata": {},
     "output_type": "display_data"
    }
   ],
   "source": [
    "data = np.loadtxt(\"TP3-ej3-digitos.txt\", dtype=np.uint8) \n",
    "plt.imshow(data);"
   ]
  },
  {
   "cell_type": "markdown",
   "id": "a38f1f86-83e0-4add-9d64-3e4a9843dbd4",
   "metadata": {},
   "source": [
    "Flatten data"
   ]
  },
  {
   "cell_type": "code",
   "execution_count": 31,
   "id": "bf7d500a-1154-4311-9a6e-8d4567a464de",
   "metadata": {},
   "outputs": [
    {
     "name": "stdout",
     "output_type": "stream",
     "text": [
      "(10, 35)\n"
     ]
    },
    {
     "data": {
      "text/plain": [
       "array([[0, 1, 1, 1, 0, 1, 0, 0, 0, 1, 1, 0, 0, 1, 1, 1, 0, 1, 0, 1, 1, 1,\n",
       "        0, 0, 1, 1, 0, 0, 0, 1, 0, 1, 1, 1, 0],\n",
       "       [0, 0, 1, 0, 0, 0, 1, 1, 0, 0, 0, 0, 1, 0, 0, 0, 0, 1, 0, 0, 0, 0,\n",
       "        1, 0, 0, 0, 0, 1, 0, 0, 0, 1, 1, 1, 0],\n",
       "       [0, 1, 1, 1, 0, 1, 0, 0, 0, 1, 0, 0, 0, 0, 1, 0, 0, 0, 1, 0, 0, 0,\n",
       "        1, 0, 0, 0, 1, 0, 0, 0, 1, 1, 1, 1, 1],\n",
       "       [0, 1, 1, 1, 0, 1, 0, 0, 0, 1, 0, 0, 0, 0, 1, 0, 0, 1, 1, 0, 0, 0,\n",
       "        0, 0, 1, 1, 0, 0, 0, 1, 0, 1, 1, 1, 0],\n",
       "       [0, 0, 0, 1, 0, 0, 0, 1, 1, 0, 0, 1, 0, 1, 0, 1, 0, 0, 1, 0, 1, 1,\n",
       "        1, 1, 1, 0, 0, 0, 1, 0, 0, 0, 0, 1, 0],\n",
       "       [1, 1, 1, 1, 1, 1, 0, 0, 0, 0, 1, 1, 1, 1, 0, 0, 0, 0, 0, 1, 0, 0,\n",
       "        0, 0, 1, 1, 0, 0, 0, 1, 0, 1, 1, 1, 0],\n",
       "       [0, 0, 1, 1, 0, 0, 1, 0, 0, 0, 1, 0, 0, 0, 0, 1, 1, 1, 1, 0, 1, 0,\n",
       "        0, 0, 1, 1, 0, 0, 0, 1, 0, 1, 1, 1, 0],\n",
       "       [1, 1, 1, 1, 1, 0, 0, 0, 0, 1, 0, 0, 0, 1, 0, 0, 0, 1, 0, 0, 0, 1,\n",
       "        0, 0, 0, 0, 1, 0, 0, 0, 0, 1, 0, 0, 0],\n",
       "       [0, 1, 1, 1, 0, 1, 0, 0, 0, 1, 1, 0, 0, 0, 1, 0, 1, 1, 1, 0, 1, 0,\n",
       "        0, 0, 1, 1, 0, 0, 0, 1, 0, 1, 1, 1, 0],\n",
       "       [0, 1, 1, 1, 0, 1, 0, 0, 0, 1, 1, 0, 0, 0, 1, 0, 1, 1, 1, 1, 0, 0,\n",
       "        0, 0, 1, 0, 0, 0, 1, 0, 0, 1, 1, 0, 0]], dtype=uint8)"
      ]
     },
     "execution_count": 31,
     "metadata": {},
     "output_type": "execute_result"
    }
   ],
   "source": [
    "data_flattened = data.flatten()\n",
    "data_flattened = np.reshape(data_flattened, (10, 35))\n",
    "\n",
    "print(data_flattened.shape)\n",
    "data_flattened"
   ]
  },
  {
   "cell_type": "markdown",
   "id": "8c3c2454-f849-4ffb-859a-c3f9fad87283",
   "metadata": {},
   "source": [
    "Initialize x input (flattened digit) and y output (result of whether digit is pair)"
   ]
  },
  {
   "cell_type": "code",
   "execution_count": 32,
   "id": "0b11c14d-c55b-403d-b5ed-fb0294878a64",
   "metadata": {},
   "outputs": [
    {
     "data": {
      "image/png": "[encoded data removed]",
      "text/plain": [
       "<Figure size 1000x300 with 10 Axes>"
      ]
     },
     "metadata": {},
     "output_type": "display_data"
    }
   ],
   "source": [
    "x = data_flattened\n",
    "y = np.array([1, 0, 1, 0, 1, 0, 1, 0, 1, 0]).reshape(-1, 1)\n",
    "\n",
    "plt.figure(figsize=(10, 3))\n",
    "for i, img in enumerate(data_flattened):\n",
    "    plt.subplot(1, 10, i+1)\n",
    "    plt.title('Label:' + str(y[i]))\n",
    "    plt.axis('off')\n",
    "    plt.imshow(np.reshape(img, (7,5)))"
   ]
  },
  {
   "cell_type": "code",
   "execution_count": 35,
   "id": "8dcdad80-efe7-492b-b705-b9b8b5619b1d",
   "metadata": {},
   "outputs": [
    {
     "name": "stdout",
     "output_type": "stream",
     "text": [
      "Epoch 0: 0.49218539655063936\n",
      "Epoch 1000: 0.24912310785387876\n",
      "Epoch 2000: 0.031089356960779403\n",
      "Epoch 3000: 0.0015017062511186435\n",
      "Epoch 4000: 0.00042883227664536355\n",
      "Epoch 5000: 0.00019660548259597537\n",
      "Epoch 6000: 0.00011175288241647504\n",
      "Epoch 7000: 7.179705332612812e-05\n",
      "Epoch 8000: 4.9919118240704236e-05\n",
      "Epoch 9000: 3.667607132900665e-05\n"
     ]
    },
    {
     "data": {
      "text/plain": [
       "array([[0.99481976],\n",
       "       [0.00491146],\n",
       "       [0.99452727],\n",
       "       [0.00703957],\n",
       "       [0.99596   ],\n",
       "       [0.00462815],\n",
       "       [0.99570532],\n",
       "       [0.00471326],\n",
       "       [0.99353848],\n",
       "       [0.00548034]])"
      ]
     },
     "execution_count": 35,
     "metadata": {},
     "output_type": "execute_result"
    }
   ],
   "source": [
    "input_size = 35\n",
    "hidden_size = 10\n",
    "output_size = 1\n",
    "\n",
    "learning_rate = 0.1\n",
    "epochs = 10000\n",
    "\n",
    "nn_B = NeuralNetwork(input_size, hidden_size, output_size)\n",
    "nn_B.train(x, y, learning_rate, epochs)\n",
    "nn_B.predict(x)"
   ]
  },
  {
   "cell_type": "code",
   "execution_count": 37,
   "id": "cd28f076-a29c-4723-bffb-065868873cb8",
   "metadata": {},
   "outputs": [
    {
     "name": "stdout",
     "output_type": "stream",
     "text": [
      "digit is even: [[0.99570532]]\n"
     ]
    },
    {
     "data": {
      "image/png": "[encoded data removed]",
      "text/plain": [
       "<Figure size 200x200 with 1 Axes>"
      ]
     },
     "metadata": {},
     "output_type": "display_data"
    }
   ],
   "source": [
    "digit = 6\n",
    "\n",
    "plt.figure(figsize=(2,2))\n",
    "plt.imshow(np.reshape(data_flattened[digit], (7,5)));\n",
    "res = nn_B.predict(data_flattened[digit])\n",
    "print('digit is even:', res)"
   ]
  },
  {
   "cell_type": "code",
   "execution_count": null,
   "id": "a6a4495a-0def-418c-bec9-aafab48919dd",
   "metadata": {},
   "outputs": [],
   "source": []
  },
  {
   "cell_type": "markdown",
   "id": "89e2353a-43b3-448a-8e48-1eb8ac16fcd8",
   "metadata": {},
   "source": [
    "### Exercise C"
   ]
  },
  {
   "cell_type": "markdown",
   "id": "46fab504-d95e-4ac1-be7b-2c730ff23635",
   "metadata": {},
   "source": [
    "Initialize data\n",
    "- x: 10*35 (10 digits * 35 pixels each)\n",
    "- y: 10*1 (can be classified to 10 possible digits)"
   ]
  },
  {
   "cell_type": "code",
   "execution_count": 38,
   "id": "d0e08481-ea25-4ca0-99ce-3b300b5e87a3",
   "metadata": {},
   "outputs": [
    {
     "data": {
      "image/png": "[encoded data removed]",
      "text/plain": [
       "<Figure size 1000x300 with 10 Axes>"
      ]
     },
     "metadata": {},
     "output_type": "display_data"
    }
   ],
   "source": [
    "x = data_flattened\n",
    "y = np.arange(10).reshape(-1, 1)\n",
    "\n",
    "plt.figure(figsize=(10, 3))\n",
    "for i, img in enumerate(data_flattened):\n",
    "    plt.subplot(1, 10, i+1)\n",
    "    plt.title('Label:' + str(y[i]))\n",
    "    plt.axis('off')\n",
    "    plt.imshow(np.reshape(img, (7,5)))"
   ]
  },
  {
   "cell_type": "code",
   "execution_count": 20,
   "id": "08be8432-e487-4625-bd43-869a1662cce5",
   "metadata": {},
   "outputs": [
    {
     "name": "stdout",
     "output_type": "stream",
     "text": [
      "Epoch 0: 0.8800771248922876\n",
      "Epoch 10000: 0.08997352049619786\n",
      "Epoch 20000: 0.08225647442907148\n",
      "Epoch 30000: 0.06849769244550814\n",
      "Epoch 40000: 0.042619982674858996\n",
      "Epoch 50000: 0.012119387635258853\n",
      "Epoch 60000: 0.0036597884068427645\n",
      "Epoch 70000: 0.0015265744634709922\n",
      "Epoch 80000: 0.0008263133977554393\n",
      "Epoch 90000: 0.0005169543946543574\n"
     ]
    },
    {
     "data": {
      "text/plain": [
       "array([[9.26328405e-01, 2.27966587e-05, 3.33021455e-05, 2.31295854e-03,\n",
       "        1.50610313e-02, 7.70791206e-03, 5.83848544e-03, 2.16727280e-04,\n",
       "        1.55675176e-02, 1.02555619e-04],\n",
       "       [1.30223611e-03, 9.70657145e-01, 2.77728236e-03, 6.32215942e-03,\n",
       "        1.09181855e-03, 1.80872385e-03, 6.45014632e-03, 4.96772946e-03,\n",
       "        4.22828310e-07, 2.16277222e-06],\n",
       "       [6.37596759e-04, 4.74255534e-04, 9.76963978e-01, 1.42770971e-02,\n",
       "        7.17360385e-04, 1.85425890e-06, 4.99801722e-06, 3.71524418e-03,\n",
       "        3.21481360e-03, 2.64931280e-03],\n",
       "       [7.75895956e-03, 1.75693962e-04, 1.14505013e-02, 9.39446936e-01,\n",
       "        7.43883532e-05, 1.00600140e-06, 2.32186049e-04, 4.74170414e-03,\n",
       "        3.21502294e-02, 2.64907575e-04],\n",
       "       [1.63731706e-02, 2.54891329e-04, 3.43230773e-04, 6.12298489e-05,\n",
       "        9.76796495e-01, 4.87422483e-03, 9.67685915e-04, 8.01832011e-05,\n",
       "        1.35022045e-03, 2.18961416e-04],\n",
       "       [7.38575455e-03, 1.59956201e-02, 9.88703739e-06, 1.65460982e-06,\n",
       "        2.59708052e-03, 9.47937953e-01, 1.27229704e-02, 1.05371609e-02,\n",
       "        3.23334693e-06, 1.15340205e-02],\n",
       "       [1.25434665e-02, 6.95329712e-03, 9.47286468e-06, 1.35571897e-03,\n",
       "        6.13375774e-04, 4.76767732e-03, 9.52589080e-01, 1.24154384e-06,\n",
       "        2.73875884e-02, 1.38575148e-04],\n",
       "       [4.19068529e-03, 5.36280660e-03, 4.29263497e-03, 5.40852327e-03,\n",
       "        1.09867608e-03, 1.63775246e-02, 5.22682614e-07, 9.68775228e-01,\n",
       "        3.70001096e-07, 3.35766707e-03],\n",
       "       [3.24404004e-02, 1.08350356e-06, 4.81679733e-04, 3.05434119e-02,\n",
       "        6.37956455e-04, 5.45672406e-05, 1.94402201e-02, 1.26304637e-05,\n",
       "        9.06327340e-01, 2.06558305e-02],\n",
       "       [1.51708917e-04, 2.98879009e-06, 1.75419944e-03, 7.56448103e-05,\n",
       "        5.09175538e-04, 1.77578984e-02, 1.33785245e-04, 6.98963948e-03,\n",
       "        2.12871745e-02, 9.61985269e-01]])"
      ]
     },
     "execution_count": 20,
     "metadata": {},
     "output_type": "execute_result"
    }
   ],
   "source": [
    "input_size = 35\n",
    "hidden_size = 10\n",
    "output_size = 10\n",
    "\n",
    "learning_rate = 0.1\n",
    "epochs = 100000\n",
    "\n",
    "nn_C = NeuralNetwork(input_size, hidden_size, output_size, one_hot=True)\n",
    "nn_C.train(x, y, learning_rate, epochs)\n",
    "nn_C.predict(x)"
   ]
  },
  {
   "cell_type": "code",
   "execution_count": 252,
   "id": "5049ece1-4a4a-4ec2-9185-4d2747f250c6",
   "metadata": {},
   "outputs": [
    {
     "name": "stdout",
     "output_type": "stream",
     "text": [
      "[[7.38575455e-03 1.59956201e-02 9.88703739e-06 1.65460982e-06\n",
      "  2.59708052e-03 9.47937953e-01 1.27229704e-02 1.05371609e-02\n",
      "  3.23334693e-06 1.15340205e-02]]\n",
      "digit is: 5\n"
     ]
    },
    {
     "data": {
      "image/png": "[encoded data removed]",
      "text/plain": [
       "<Figure size 200x200 with 1 Axes>"
      ]
     },
     "metadata": {},
     "output_type": "display_data"
    }
   ],
   "source": [
    "digit = 5\n",
    "\n",
    "plt.figure(figsize=(2,2))\n",
    "plt.axis('off')\n",
    "plt.imshow(np.reshape(data_flattened[digit], (7,5)));\n",
    "res = nn_C.predict(data_flattened[digit])\n",
    "print(res)\n",
    "print('digit is:', np.argmax(res))"
   ]
  },
  {
   "cell_type": "code",
   "execution_count": 224,
   "id": "5aedeb91-7d37-4f57-ac7f-b4a32682fdc9",
   "metadata": {},
   "outputs": [],
   "source": [
    "def salt_pepper_noise(img, salt_probability, pepper_probability):\n",
    "    img_copy = np.copy(img)\n",
    "    salt = np.random.rand(img.size) < salt_probability\n",
    "    pepper = np.random.rand(img.size) < pepper_probability\n",
    "    img_copy[salt] = 1\n",
    "    img_copy[pepper] = 0\n",
    "    return img_copy\n",
    "\n",
    "def random_noise(img):\n",
    "    img_copy = np.copy(img)\n",
    "    img_copy = img_copy + np.random.rand(img_copy.size)\n",
    "    return img_copy\n",
    "\n",
    "def gaussian_noise(img, mean, std):\n",
    "    img_copy = np.copy(img)\n",
    "    img_copy = img_copy + np.random.normal(mean, std, img_copy.size)\n",
    "    return img_copy"
   ]
  },
  {
   "cell_type": "code",
   "execution_count": 307,
   "id": "60365859-7eb2-455b-8f30-1205dc58b7d5",
   "metadata": {},
   "outputs": [
    {
     "data": {
      "image/png": "[encoded data removed]",
      "text/plain": [
       "<Figure size 400x300 with 3 Axes>"
      ]
     },
     "metadata": {},
     "output_type": "display_data"
    }
   ],
   "source": [
    "salt_pepper_digit = salt_pepper_noise(data_flattened[digit], 0.05, 0.05)\n",
    "random_digit = random_noise(data_flattened[digit])\n",
    "gauss_digit = gaussian_noise(data_flattened[digit], 0.1, 0.1)\n",
    "\n",
    "noised_data = [salt_pepper_digit, random_digit, gauss_digit]\n",
    "titles = ['S&P', 'Random', 'Gauss']\n",
    "\n",
    "plt.figure(figsize=(4,3))\n",
    "for i, img in enumerate(noised_data):\n",
    "    plt.subplot(1, 3, i+1)\n",
    "    plt.title(titles[i])\n",
    "    plt.axis('off')\n",
    "    plt.imshow(np.reshape(img, (7,5)));"
   ]
  },
  {
   "cell_type": "code",
   "execution_count": 308,
   "id": "99370322-7da3-41f4-be3d-e013e0652a4b",
   "metadata": {},
   "outputs": [
    {
     "data": {
      "text/plain": [
       "5"
      ]
     },
     "execution_count": 308,
     "metadata": {},
     "output_type": "execute_result"
    }
   ],
   "source": [
    "np.argmax(nn_C.predict(random_digit))"
   ]
  },
  {
   "cell_type": "code",
   "execution_count": null,
   "id": "cb378110-c745-4dec-bdc7-849ac4bebbd0",
   "metadata": {},
   "outputs": [],
   "source": []
  }
 ],
 "metadata": {
  "kernelspec": {
   "display_name": "Python 3 (ipykernel)",
   "language": "python",
   "name": "python3"
  },
  "language_info": {
   "codemirror_mode": {
    "name": "ipython",
    "version": 3
   },
   "file_extension": ".py",
   "mimetype": "text/x-python",
   "name": "python",
   "nbconvert_exporter": "python",
   "pygments_lexer": "ipython3",
   "version": "3.10.12"
  }
 },
 "nbformat": 4,
 "nbformat_minor": 5
}
